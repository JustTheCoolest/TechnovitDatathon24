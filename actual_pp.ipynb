{
 "cells": [
  {
   "cell_type": "code",
   "execution_count": null,
   "metadata": {},
   "outputs": [],
   "source": [
    "import pandas as pd"
   ]
  },
  {
   "cell_type": "code",
   "execution_count": 6,
   "metadata": {},
   "outputs": [],
   "source": [
    "data = pd.read_csv('cleaned_data.csv')\n",
    "test_data = pd.read_csv('cleaned_test_data.csv')"
   ]
  },
  {
   "cell_type": "code",
   "execution_count": null,
   "metadata": {},
   "outputs": [],
   "source": [
    "data.head()"
   ]
  },
  {
   "cell_type": "code",
   "execution_count": 7,
   "metadata": {},
   "outputs": [
    {
     "data": {
      "text/html": [
       "<div>\n",
       "<style scoped>\n",
       "    .dataframe tbody tr th:only-of-type {\n",
       "        vertical-align: middle;\n",
       "    }\n",
       "\n",
       "    .dataframe tbody tr th {\n",
       "        vertical-align: top;\n",
       "    }\n",
       "\n",
       "    .dataframe thead th {\n",
       "        text-align: right;\n",
       "    }\n",
       "</style>\n",
       "<table border=\"1\" class=\"dataframe\">\n",
       "  <thead>\n",
       "    <tr style=\"text-align: right;\">\n",
       "      <th></th>\n",
       "      <th>Amount</th>\n",
       "      <th>Final_Origin_Balance</th>\n",
       "      <th>Final_Destination_Balance</th>\n",
       "      <th>Fraud</th>\n",
       "      <th>Transaction_Type_CASH_IN</th>\n",
       "      <th>Transaction_Type_CASH_OUT</th>\n",
       "      <th>Transaction_Type_DEBIT</th>\n",
       "      <th>Transaction_Type_PAYMENT</th>\n",
       "      <th>Transaction_Type_TRANSFER</th>\n",
       "    </tr>\n",
       "  </thead>\n",
       "  <tbody>\n",
       "    <tr>\n",
       "      <th>0</th>\n",
       "      <td>-0.152646</td>\n",
       "      <td>-0.267619</td>\n",
       "      <td>-0.177702</td>\n",
       "      <td>0</td>\n",
       "      <td>False</td>\n",
       "      <td>True</td>\n",
       "      <td>False</td>\n",
       "      <td>False</td>\n",
       "      <td>False</td>\n",
       "    </tr>\n",
       "    <tr>\n",
       "      <th>1</th>\n",
       "      <td>-0.310215</td>\n",
       "      <td>-0.267619</td>\n",
       "      <td>-0.330323</td>\n",
       "      <td>0</td>\n",
       "      <td>False</td>\n",
       "      <td>False</td>\n",
       "      <td>False</td>\n",
       "      <td>True</td>\n",
       "      <td>False</td>\n",
       "    </tr>\n",
       "    <tr>\n",
       "      <th>2</th>\n",
       "      <td>-0.307673</td>\n",
       "      <td>-0.261659</td>\n",
       "      <td>-0.330323</td>\n",
       "      <td>0</td>\n",
       "      <td>False</td>\n",
       "      <td>False</td>\n",
       "      <td>False</td>\n",
       "      <td>True</td>\n",
       "      <td>False</td>\n",
       "    </tr>\n",
       "    <tr>\n",
       "      <th>3</th>\n",
       "      <td>-0.309188</td>\n",
       "      <td>-0.266143</td>\n",
       "      <td>-0.330323</td>\n",
       "      <td>0</td>\n",
       "      <td>False</td>\n",
       "      <td>False</td>\n",
       "      <td>False</td>\n",
       "      <td>True</td>\n",
       "      <td>False</td>\n",
       "    </tr>\n",
       "    <tr>\n",
       "      <th>4</th>\n",
       "      <td>-0.093049</td>\n",
       "      <td>0.308045</td>\n",
       "      <td>0.332594</td>\n",
       "      <td>0</td>\n",
       "      <td>True</td>\n",
       "      <td>False</td>\n",
       "      <td>False</td>\n",
       "      <td>False</td>\n",
       "      <td>False</td>\n",
       "    </tr>\n",
       "  </tbody>\n",
       "</table>\n",
       "</div>"
      ],
      "text/plain": [
       "     Amount  Final_Origin_Balance  Final_Destination_Balance  Fraud  \\\n",
       "0 -0.152646             -0.267619                  -0.177702      0   \n",
       "1 -0.310215             -0.267619                  -0.330323      0   \n",
       "2 -0.307673             -0.261659                  -0.330323      0   \n",
       "3 -0.309188             -0.266143                  -0.330323      0   \n",
       "4 -0.093049              0.308045                   0.332594      0   \n",
       "\n",
       "   Transaction_Type_CASH_IN  Transaction_Type_CASH_OUT  \\\n",
       "0                     False                       True   \n",
       "1                     False                      False   \n",
       "2                     False                      False   \n",
       "3                     False                      False   \n",
       "4                      True                      False   \n",
       "\n",
       "   Transaction_Type_DEBIT  Transaction_Type_PAYMENT  Transaction_Type_TRANSFER  \n",
       "0                   False                     False                      False  \n",
       "1                   False                      True                      False  \n",
       "2                   False                      True                      False  \n",
       "3                   False                      True                      False  \n",
       "4                   False                     False                      False  "
      ]
     },
     "execution_count": 7,
     "metadata": {},
     "output_type": "execute_result"
    }
   ],
   "source": [
    "from sklearn.preprocessing import StandardScaler\n",
    "\n",
    "scalables = ['Amount', 'Final_Origin_Balance', 'Final_Destination_Balance']\n",
    "scalers = {}\n",
    "\n",
    "for col in scalables:\n",
    "    scaler = StandardScaler()\n",
    "    data[col] = scaler.fit_transform(data[col].values.reshape(-1, 1))\n",
    "    test_data[col] = scaler.transform(test_data[col].values.reshape(-1, 1))\n",
    "    scalers[col] = scaler\n",
    "\n",
    "data.head()"
   ]
  },
  {
   "cell_type": "code",
   "execution_count": null,
   "metadata": {},
   "outputs": [],
   "source": [
    "data.to_csv('scaled_data.csv', index=False)"
   ]
  },
  {
   "cell_type": "code",
   "execution_count": 8,
   "metadata": {},
   "outputs": [],
   "source": [
    "test_data.to_csv('scaled_test_data.csv', index=False)"
   ]
  },
  {
   "cell_type": "code",
   "execution_count": null,
   "metadata": {},
   "outputs": [],
   "source": []
  }
 ],
 "metadata": {
  "kernelspec": {
   "display_name": "Python 3",
   "language": "python",
   "name": "python3"
  },
  "language_info": {
   "codemirror_mode": {
    "name": "ipython",
    "version": 3
   },
   "file_extension": ".py",
   "mimetype": "text/x-python",
   "name": "python",
   "nbconvert_exporter": "python",
   "pygments_lexer": "ipython3",
   "version": "3.10.12"
  }
 },
 "nbformat": 4,
 "nbformat_minor": 2
}
