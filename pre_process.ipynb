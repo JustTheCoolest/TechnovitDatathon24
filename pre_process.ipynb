{
  "cells": [
    {
      "cell_type": "code",
      "execution_count": 1,
      "metadata": {},
      "outputs": [],
      "source": [
        "import pandas as pd \n",
        "import numpy as np "
      ]
    },
    {
      "cell_type": "code",
      "execution_count": 2,
      "metadata": {},
      "outputs": [
        {
          "name": "stderr",
          "output_type": "stream",
          "text": [
            "/usr/lib/python3/dist-packages/scipy/__init__.py:146: UserWarning: A NumPy version >=1.17.3 and <1.25.0 is required for this version of SciPy (detected version 1.26.3\n",
            "  warnings.warn(f\"A NumPy version >={np_minversion} and <{np_maxversion}\"\n"
          ]
        }
      ],
      "source": [
        "from sklearn.preprocessing import LabelEncoder"
      ]
    },
    {
      "cell_type": "code",
      "execution_count": 3,
      "metadata": {},
      "outputs": [],
      "source": [
        "data = pd.read_csv('DATATHON_EVENT_DATASET.csv')"
      ]
    },
    {
      "cell_type": "code",
      "execution_count": 4,
      "metadata": {},
      "outputs": [
        {
          "data": {
            "text/html": [
              "<div>\n",
              "<style scoped>\n",
              "    .dataframe tbody tr th:only-of-type {\n",
              "        vertical-align: middle;\n",
              "    }\n",
              "\n",
              "    .dataframe tbody tr th {\n",
              "        vertical-align: top;\n",
              "    }\n",
              "\n",
              "    .dataframe thead th {\n",
              "        text-align: right;\n",
              "    }\n",
              "</style>\n",
              "<table border=\"1\" class=\"dataframe\">\n",
              "  <thead>\n",
              "    <tr style=\"text-align: right;\">\n",
              "      <th></th>\n",
              "      <th>Time</th>\n",
              "      <th>Transaction_Type</th>\n",
              "      <th>Amount</th>\n",
              "      <th>Origin_ID</th>\n",
              "      <th>Initial_Origin_Balance</th>\n",
              "      <th>Final_Origin_Balance</th>\n",
              "      <th>Destination_ID</th>\n",
              "      <th>Initial_Destination_Balance</th>\n",
              "      <th>Final_Destination_Balance</th>\n",
              "      <th>Fraud</th>\n",
              "      <th>Expected_Fraud</th>\n",
              "    </tr>\n",
              "  </thead>\n",
              "  <tbody>\n",
              "    <tr>\n",
              "      <th>0</th>\n",
              "      <td>162</td>\n",
              "      <td>CASH_OUT</td>\n",
              "      <td>183806.32</td>\n",
              "      <td>C691771226</td>\n",
              "      <td>19391.00</td>\n",
              "      <td>0.00</td>\n",
              "      <td>C1416312719</td>\n",
              "      <td>382572.19</td>\n",
              "      <td>566378.51</td>\n",
              "      <td>No</td>\n",
              "      <td>No</td>\n",
              "    </tr>\n",
              "    <tr>\n",
              "      <th>1</th>\n",
              "      <td>137</td>\n",
              "      <td>PAYMENT</td>\n",
              "      <td>521.37</td>\n",
              "      <td>C203378011</td>\n",
              "      <td>0.00</td>\n",
              "      <td>0.00</td>\n",
              "      <td>M42773300</td>\n",
              "      <td>0.00</td>\n",
              "      <td>0.00</td>\n",
              "      <td>No</td>\n",
              "      <td>No</td>\n",
              "    </tr>\n",
              "    <tr>\n",
              "      <th>2</th>\n",
              "      <td>179</td>\n",
              "      <td>PAYMENT</td>\n",
              "      <td>3478.18</td>\n",
              "      <td>C1698571270</td>\n",
              "      <td>19853.00</td>\n",
              "      <td>16374.82</td>\n",
              "      <td>M643984524</td>\n",
              "      <td>0.00</td>\n",
              "      <td>0.00</td>\n",
              "      <td>No</td>\n",
              "      <td>No</td>\n",
              "    </tr>\n",
              "    <tr>\n",
              "      <th>3</th>\n",
              "      <td>355</td>\n",
              "      <td>PAYMENT</td>\n",
              "      <td>1716.05</td>\n",
              "      <td>C913764937</td>\n",
              "      <td>5769.17</td>\n",
              "      <td>4053.13</td>\n",
              "      <td>M1387429131</td>\n",
              "      <td>0.00</td>\n",
              "      <td>0.00</td>\n",
              "      <td>No</td>\n",
              "      <td>No</td>\n",
              "    </tr>\n",
              "    <tr>\n",
              "      <th>4</th>\n",
              "      <td>354</td>\n",
              "      <td>CASH_IN</td>\n",
              "      <td>253129.93</td>\n",
              "      <td>C2017736577</td>\n",
              "      <td>1328499.49</td>\n",
              "      <td>1581629.42</td>\n",
              "      <td>C407484102</td>\n",
              "      <td>2713220.48</td>\n",
              "      <td>2460090.55</td>\n",
              "      <td>No</td>\n",
              "      <td>No</td>\n",
              "    </tr>\n",
              "  </tbody>\n",
              "</table>\n",
              "</div>"
            ],
            "text/plain": [
              "   Time Transaction_Type     Amount    Origin_ID  Initial_Origin_Balance  \\\n",
              "0   162         CASH_OUT  183806.32   C691771226                19391.00   \n",
              "1   137          PAYMENT     521.37   C203378011                    0.00   \n",
              "2   179          PAYMENT    3478.18  C1698571270                19853.00   \n",
              "3   355          PAYMENT    1716.05   C913764937                 5769.17   \n",
              "4   354          CASH_IN  253129.93  C2017736577              1328499.49   \n",
              "\n",
              "   Final_Origin_Balance Destination_ID  Initial_Destination_Balance  \\\n",
              "0                  0.00    C1416312719                    382572.19   \n",
              "1                  0.00      M42773300                         0.00   \n",
              "2              16374.82     M643984524                         0.00   \n",
              "3               4053.13    M1387429131                         0.00   \n",
              "4            1581629.42     C407484102                   2713220.48   \n",
              "\n",
              "   Final_Destination_Balance Fraud Expected_Fraud  \n",
              "0                  566378.51    No             No  \n",
              "1                       0.00    No             No  \n",
              "2                       0.00    No             No  \n",
              "3                       0.00    No             No  \n",
              "4                 2460090.55    No             No  "
            ]
          },
          "execution_count": 4,
          "metadata": {},
          "output_type": "execute_result"
        }
      ],
      "source": [
        "data.head()"
      ]
    },
    {
      "cell_type": "code",
      "execution_count": 5,
      "metadata": {},
      "outputs": [],
      "source": [
        "# data = data.drop(\"Expected_Fraud\", axis=1)"
      ]
    },
    {
      "cell_type": "code",
      "execution_count": 6,
      "metadata": {},
      "outputs": [
        {
          "data": {
            "text/plain": [
              "Time                             int64\n",
              "Transaction_Type                object\n",
              "Amount                         float64\n",
              "Origin_ID                       object\n",
              "Initial_Origin_Balance         float64\n",
              "Final_Origin_Balance           float64\n",
              "Destination_ID                  object\n",
              "Initial_Destination_Balance    float64\n",
              "Final_Destination_Balance      float64\n",
              "Fraud                           object\n",
              "Expected_Fraud                  object\n",
              "dtype: object"
            ]
          },
          "execution_count": 6,
          "metadata": {},
          "output_type": "execute_result"
        }
      ],
      "source": [
        "data.dtypes"
      ]
    },
    {
      "cell_type": "code",
      "execution_count": 7,
      "metadata": {},
      "outputs": [],
      "source": [
        "data['TransactionAmount'] = - data['Final_Origin_Balance'] + data['Initial_Origin_Balance']"
      ]
    },
    {
      "cell_type": "code",
      "execution_count": 8,
      "metadata": {},
      "outputs": [],
      "source": [
        "# data = data.drop(['Initial_Origin_Balance', 'Initial_Destination_Balance'], axis=1)"
      ]
    },
    {
      "cell_type": "code",
      "execution_count": 9,
      "metadata": {},
      "outputs": [
        {
          "data": {
            "text/plain": [
              "Index(['Time', 'Transaction_Type', 'Amount', 'Origin_ID',\n",
              "       'Initial_Origin_Balance', 'Final_Origin_Balance', 'Destination_ID',\n",
              "       'Initial_Destination_Balance', 'Final_Destination_Balance', 'Fraud',\n",
              "       'Expected_Fraud', 'TransactionAmount'],\n",
              "      dtype='object')"
            ]
          },
          "execution_count": 9,
          "metadata": {},
          "output_type": "execute_result"
        }
      ],
      "source": [
        "data.columns"
      ]
    },
    {
      "cell_type": "code",
      "execution_count": 10,
      "metadata": {},
      "outputs": [],
      "source": [
        "# # Function to hash Origin_ID\n",
        "# def hash_origin_id(origin_id):\n",
        "#     return hashlib.sha256(origin_id.encode()).hexdigest()\n",
        "\n",
        "# # Apply the function to the Origin_ID column\n",
        "# data['Hashed_Origin_ID'] = data['Origin_ID'].apply(hash_origin_id).rank(method=\"dense\").astype(int)\n",
        "# data['Hashed_Destination_ID'] = data['Destination_ID'].apply(hash_origin_id).rank(method=\"dense\").astype(int)\n",
        "\n",
        "encodables = ['Origin_ID', 'Destination_ID', 'Fraud']\n",
        "encoders = {}\n",
        "for column in encodables:\n",
        "    le = LabelEncoder()\n",
        "    data[column] = le.fit_transform(data[column])\n",
        "    encoders[column] = le"
      ]
    },
    {
      "cell_type": "code",
      "execution_count": 11,
      "metadata": {},
      "outputs": [
        {
          "data": {
            "text/html": [
              "<div>\n",
              "<style scoped>\n",
              "    .dataframe tbody tr th:only-of-type {\n",
              "        vertical-align: middle;\n",
              "    }\n",
              "\n",
              "    .dataframe tbody tr th {\n",
              "        vertical-align: top;\n",
              "    }\n",
              "\n",
              "    .dataframe thead th {\n",
              "        text-align: right;\n",
              "    }\n",
              "</style>\n",
              "<table border=\"1\" class=\"dataframe\">\n",
              "  <thead>\n",
              "    <tr style=\"text-align: right;\">\n",
              "      <th></th>\n",
              "      <th>Time</th>\n",
              "      <th>Transaction_Type</th>\n",
              "      <th>Amount</th>\n",
              "      <th>Origin_ID</th>\n",
              "      <th>Initial_Origin_Balance</th>\n",
              "      <th>Final_Origin_Balance</th>\n",
              "      <th>Destination_ID</th>\n",
              "      <th>Initial_Destination_Balance</th>\n",
              "      <th>Final_Destination_Balance</th>\n",
              "      <th>Fraud</th>\n",
              "      <th>Expected_Fraud</th>\n",
              "      <th>TransactionAmount</th>\n",
              "    </tr>\n",
              "  </thead>\n",
              "  <tbody>\n",
              "    <tr>\n",
              "      <th>0</th>\n",
              "      <td>162</td>\n",
              "      <td>CASH_OUT</td>\n",
              "      <td>183806.32</td>\n",
              "      <td>48751</td>\n",
              "      <td>19391.00</td>\n",
              "      <td>0.00</td>\n",
              "      <td>8311</td>\n",
              "      <td>382572.19</td>\n",
              "      <td>566378.51</td>\n",
              "      <td>0</td>\n",
              "      <td>No</td>\n",
              "      <td>19391.00</td>\n",
              "    </tr>\n",
              "    <tr>\n",
              "      <th>1</th>\n",
              "      <td>137</td>\n",
              "      <td>PAYMENT</td>\n",
              "      <td>521.37</td>\n",
              "      <td>31245</td>\n",
              "      <td>0.00</td>\n",
              "      <td>0.00</td>\n",
              "      <td>50731</td>\n",
              "      <td>0.00</td>\n",
              "      <td>0.00</td>\n",
              "      <td>0</td>\n",
              "      <td>No</td>\n",
              "      <td>0.00</td>\n",
              "    </tr>\n",
              "    <tr>\n",
              "      <th>2</th>\n",
              "      <td>179</td>\n",
              "      <td>PAYMENT</td>\n",
              "      <td>3478.18</td>\n",
              "      <td>21146</td>\n",
              "      <td>19853.00</td>\n",
              "      <td>16374.82</td>\n",
              "      <td>52691</td>\n",
              "      <td>0.00</td>\n",
              "      <td>0.00</td>\n",
              "      <td>0</td>\n",
              "      <td>No</td>\n",
              "      <td>3478.18</td>\n",
              "    </tr>\n",
              "    <tr>\n",
              "      <th>3</th>\n",
              "      <td>355</td>\n",
              "      <td>PAYMENT</td>\n",
              "      <td>1716.05</td>\n",
              "      <td>55464</td>\n",
              "      <td>5769.17</td>\n",
              "      <td>4053.13</td>\n",
              "      <td>42137</td>\n",
              "      <td>0.00</td>\n",
              "      <td>0.00</td>\n",
              "      <td>0</td>\n",
              "      <td>No</td>\n",
              "      <td>1716.04</td>\n",
              "    </tr>\n",
              "    <tr>\n",
              "      <th>4</th>\n",
              "      <td>354</td>\n",
              "      <td>CASH_IN</td>\n",
              "      <td>253129.93</td>\n",
              "      <td>30759</td>\n",
              "      <td>1328499.49</td>\n",
              "      <td>1581629.42</td>\n",
              "      <td>26864</td>\n",
              "      <td>2713220.48</td>\n",
              "      <td>2460090.55</td>\n",
              "      <td>0</td>\n",
              "      <td>No</td>\n",
              "      <td>-253129.93</td>\n",
              "    </tr>\n",
              "  </tbody>\n",
              "</table>\n",
              "</div>"
            ],
            "text/plain": [
              "   Time Transaction_Type     Amount  Origin_ID  Initial_Origin_Balance  \\\n",
              "0   162         CASH_OUT  183806.32      48751                19391.00   \n",
              "1   137          PAYMENT     521.37      31245                    0.00   \n",
              "2   179          PAYMENT    3478.18      21146                19853.00   \n",
              "3   355          PAYMENT    1716.05      55464                 5769.17   \n",
              "4   354          CASH_IN  253129.93      30759              1328499.49   \n",
              "\n",
              "   Final_Origin_Balance  Destination_ID  Initial_Destination_Balance  \\\n",
              "0                  0.00            8311                    382572.19   \n",
              "1                  0.00           50731                         0.00   \n",
              "2              16374.82           52691                         0.00   \n",
              "3               4053.13           42137                         0.00   \n",
              "4            1581629.42           26864                   2713220.48   \n",
              "\n",
              "   Final_Destination_Balance  Fraud Expected_Fraud  TransactionAmount  \n",
              "0                  566378.51      0             No           19391.00  \n",
              "1                       0.00      0             No               0.00  \n",
              "2                       0.00      0             No            3478.18  \n",
              "3                       0.00      0             No            1716.04  \n",
              "4                 2460090.55      0             No         -253129.93  "
            ]
          },
          "execution_count": 11,
          "metadata": {},
          "output_type": "execute_result"
        }
      ],
      "source": [
        "data.head()"
      ]
    },
    {
      "cell_type": "code",
      "execution_count": 12,
      "metadata": {},
      "outputs": [],
      "source": [
        "# data = data.drop(['Origin_ID', 'Destination_ID'], axis=1)"
      ]
    },
    {
      "cell_type": "code",
      "execution_count": 13,
      "metadata": {},
      "outputs": [
        {
          "data": {
            "text/plain": [
              "Index(['Time', 'Transaction_Type', 'Amount', 'Origin_ID',\n",
              "       'Initial_Origin_Balance', 'Final_Origin_Balance', 'Destination_ID',\n",
              "       'Initial_Destination_Balance', 'Final_Destination_Balance', 'Fraud',\n",
              "       'Expected_Fraud', 'TransactionAmount'],\n",
              "      dtype='object')"
            ]
          },
          "execution_count": 13,
          "metadata": {},
          "output_type": "execute_result"
        }
      ],
      "source": [
        "data.columns"
      ]
    },
    {
      "cell_type": "code",
      "execution_count": 14,
      "metadata": {},
      "outputs": [
        {
          "data": {
            "text/plain": [
              "Time                             int64\n",
              "Transaction_Type                object\n",
              "Amount                         float64\n",
              "Origin_ID                        int64\n",
              "Initial_Origin_Balance         float64\n",
              "Final_Origin_Balance           float64\n",
              "Destination_ID                   int64\n",
              "Initial_Destination_Balance    float64\n",
              "Final_Destination_Balance      float64\n",
              "Fraud                            int64\n",
              "Expected_Fraud                  object\n",
              "TransactionAmount              float64\n",
              "dtype: object"
            ]
          },
          "execution_count": 14,
          "metadata": {},
          "output_type": "execute_result"
        }
      ],
      "source": [
        "data.dtypes"
      ]
    },
    {
      "cell_type": "code",
      "execution_count": 15,
      "metadata": {},
      "outputs": [
        {
          "data": {
            "text/plain": [
              "Destination_ID\n",
              "16550    4\n",
              "11210    4\n",
              "9075     4\n",
              "36738    4\n",
              "5071     4\n",
              "        ..\n",
              "24278    1\n",
              "43687    1\n",
              "13330    1\n",
              "4483     1\n",
              "21638    1\n",
              "Name: count, Length: 55837, dtype: int64"
            ]
          },
          "execution_count": 15,
          "metadata": {},
          "output_type": "execute_result"
        }
      ],
      "source": [
        "data['Destination_ID'].value_counts()"
      ]
    },
    {
      "cell_type": "code",
      "execution_count": 16,
      "metadata": {},
      "outputs": [
        {
          "data": {
            "text/plain": [
              "Origin_ID\n",
              "48751    1\n",
              "44445    1\n",
              "47017    1\n",
              "25754    1\n",
              "15067    1\n",
              "        ..\n",
              "55054    1\n",
              "8980     1\n",
              "32777    1\n",
              "7840     1\n",
              "8513     1\n",
              "Name: count, Length: 58150, dtype: int64"
            ]
          },
          "execution_count": 16,
          "metadata": {},
          "output_type": "execute_result"
        }
      ],
      "source": [
        "data['Origin_ID'].value_counts()"
      ]
    },
    {
      "cell_type": "code",
      "execution_count": null,
      "metadata": {},
      "outputs": [],
      "source": []
    },
    {
      "cell_type": "code",
      "execution_count": 17,
      "metadata": {},
      "outputs": [
        {
          "data": {
            "text/plain": [
              "Index(['Time', 'Transaction_Type', 'Amount', 'Origin_ID',\n",
              "       'Initial_Origin_Balance', 'Final_Origin_Balance', 'Destination_ID',\n",
              "       'Initial_Destination_Balance', 'Final_Destination_Balance', 'Fraud',\n",
              "       'Expected_Fraud', 'TransactionAmount'],\n",
              "      dtype='object')"
            ]
          },
          "execution_count": 17,
          "metadata": {},
          "output_type": "execute_result"
        }
      ],
      "source": [
        "data.columns"
      ]
    },
    {
      "cell_type": "code",
      "execution_count": 18,
      "metadata": {},
      "outputs": [
        {
          "data": {
            "text/plain": [
              "(58150, 12)"
            ]
          },
          "execution_count": 18,
          "metadata": {},
          "output_type": "execute_result"
        }
      ],
      "source": [
        "data.shape"
      ]
    },
    {
      "cell_type": "code",
      "execution_count": 19,
      "metadata": {},
      "outputs": [
        {
          "data": {
            "text/plain": [
              "0        False\n",
              "1         True\n",
              "2        False\n",
              "3        False\n",
              "4        False\n",
              "         ...  \n",
              "58145     True\n",
              "58146    False\n",
              "58147    False\n",
              "58148    False\n",
              "58149    False\n",
              "Length: 58150, dtype: bool"
            ]
          },
          "execution_count": 19,
          "metadata": {},
          "output_type": "execute_result"
        }
      ],
      "source": [
        "(data['Initial_Origin_Balance'] - data['Final_Origin_Balance']) == (data['Final_Destination_Balance'] - data['Initial_Destination_Balance'])\n"
      ]
    },
    {
      "cell_type": "code",
      "execution_count": 20,
      "metadata": {},
      "outputs": [],
      "source": [
        "# data = data.drop(['Origin_ID', 'Destination_ID', 'Initial_Origin_Balance', 'Initial_Destination_Balance'], axis=1)"
      ]
    },
    {
      "cell_type": "code",
      "execution_count": 21,
      "metadata": {},
      "outputs": [
        {
          "data": {
            "text/html": [
              "<div>\n",
              "<style scoped>\n",
              "    .dataframe tbody tr th:only-of-type {\n",
              "        vertical-align: middle;\n",
              "    }\n",
              "\n",
              "    .dataframe tbody tr th {\n",
              "        vertical-align: top;\n",
              "    }\n",
              "\n",
              "    .dataframe thead th {\n",
              "        text-align: right;\n",
              "    }\n",
              "</style>\n",
              "<table border=\"1\" class=\"dataframe\">\n",
              "  <thead>\n",
              "    <tr style=\"text-align: right;\">\n",
              "      <th></th>\n",
              "      <th>Time</th>\n",
              "      <th>Transaction_Type</th>\n",
              "      <th>Amount</th>\n",
              "      <th>Origin_ID</th>\n",
              "      <th>Initial_Origin_Balance</th>\n",
              "      <th>Final_Origin_Balance</th>\n",
              "      <th>Destination_ID</th>\n",
              "      <th>Initial_Destination_Balance</th>\n",
              "      <th>Final_Destination_Balance</th>\n",
              "      <th>Fraud</th>\n",
              "      <th>Expected_Fraud</th>\n",
              "      <th>TransactionAmount</th>\n",
              "    </tr>\n",
              "  </thead>\n",
              "  <tbody>\n",
              "    <tr>\n",
              "      <th>0</th>\n",
              "      <td>162</td>\n",
              "      <td>CASH_OUT</td>\n",
              "      <td>183806.32</td>\n",
              "      <td>48751</td>\n",
              "      <td>19391.00</td>\n",
              "      <td>0.00</td>\n",
              "      <td>8311</td>\n",
              "      <td>382572.19</td>\n",
              "      <td>566378.51</td>\n",
              "      <td>0</td>\n",
              "      <td>No</td>\n",
              "      <td>19391.00</td>\n",
              "    </tr>\n",
              "    <tr>\n",
              "      <th>1</th>\n",
              "      <td>137</td>\n",
              "      <td>PAYMENT</td>\n",
              "      <td>521.37</td>\n",
              "      <td>31245</td>\n",
              "      <td>0.00</td>\n",
              "      <td>0.00</td>\n",
              "      <td>50731</td>\n",
              "      <td>0.00</td>\n",
              "      <td>0.00</td>\n",
              "      <td>0</td>\n",
              "      <td>No</td>\n",
              "      <td>0.00</td>\n",
              "    </tr>\n",
              "    <tr>\n",
              "      <th>2</th>\n",
              "      <td>179</td>\n",
              "      <td>PAYMENT</td>\n",
              "      <td>3478.18</td>\n",
              "      <td>21146</td>\n",
              "      <td>19853.00</td>\n",
              "      <td>16374.82</td>\n",
              "      <td>52691</td>\n",
              "      <td>0.00</td>\n",
              "      <td>0.00</td>\n",
              "      <td>0</td>\n",
              "      <td>No</td>\n",
              "      <td>3478.18</td>\n",
              "    </tr>\n",
              "    <tr>\n",
              "      <th>3</th>\n",
              "      <td>355</td>\n",
              "      <td>PAYMENT</td>\n",
              "      <td>1716.05</td>\n",
              "      <td>55464</td>\n",
              "      <td>5769.17</td>\n",
              "      <td>4053.13</td>\n",
              "      <td>42137</td>\n",
              "      <td>0.00</td>\n",
              "      <td>0.00</td>\n",
              "      <td>0</td>\n",
              "      <td>No</td>\n",
              "      <td>1716.04</td>\n",
              "    </tr>\n",
              "    <tr>\n",
              "      <th>4</th>\n",
              "      <td>354</td>\n",
              "      <td>CASH_IN</td>\n",
              "      <td>253129.93</td>\n",
              "      <td>30759</td>\n",
              "      <td>1328499.49</td>\n",
              "      <td>1581629.42</td>\n",
              "      <td>26864</td>\n",
              "      <td>2713220.48</td>\n",
              "      <td>2460090.55</td>\n",
              "      <td>0</td>\n",
              "      <td>No</td>\n",
              "      <td>-253129.93</td>\n",
              "    </tr>\n",
              "  </tbody>\n",
              "</table>\n",
              "</div>"
            ],
            "text/plain": [
              "   Time Transaction_Type     Amount  Origin_ID  Initial_Origin_Balance  \\\n",
              "0   162         CASH_OUT  183806.32      48751                19391.00   \n",
              "1   137          PAYMENT     521.37      31245                    0.00   \n",
              "2   179          PAYMENT    3478.18      21146                19853.00   \n",
              "3   355          PAYMENT    1716.05      55464                 5769.17   \n",
              "4   354          CASH_IN  253129.93      30759              1328499.49   \n",
              "\n",
              "   Final_Origin_Balance  Destination_ID  Initial_Destination_Balance  \\\n",
              "0                  0.00            8311                    382572.19   \n",
              "1                  0.00           50731                         0.00   \n",
              "2              16374.82           52691                         0.00   \n",
              "3               4053.13           42137                         0.00   \n",
              "4            1581629.42           26864                   2713220.48   \n",
              "\n",
              "   Final_Destination_Balance  Fraud Expected_Fraud  TransactionAmount  \n",
              "0                  566378.51      0             No           19391.00  \n",
              "1                       0.00      0             No               0.00  \n",
              "2                       0.00      0             No            3478.18  \n",
              "3                       0.00      0             No            1716.04  \n",
              "4                 2460090.55      0             No         -253129.93  "
            ]
          },
          "execution_count": 21,
          "metadata": {},
          "output_type": "execute_result"
        }
      ],
      "source": [
        "data.head()"
      ]
    },
    {
      "cell_type": "code",
      "execution_count": 22,
      "metadata": {},
      "outputs": [
        {
          "data": {
            "text/plain": [
              "Transaction_Type\n",
              "CASH_OUT      19510\n",
              "PAYMENT       17079\n",
              "CASH_IN       10808\n",
              "TRANSFER       7445\n",
              "CASH_OUUUT     2167\n",
              "Trans_fer       827\n",
              "DEBIT           314\n",
              "Name: count, dtype: int64"
            ]
          },
          "execution_count": 22,
          "metadata": {},
          "output_type": "execute_result"
        }
      ],
      "source": [
        "data['Transaction_Type'].value_counts()"
      ]
    },
    {
      "cell_type": "code",
      "execution_count": 23,
      "metadata": {},
      "outputs": [
        {
          "name": "stdout",
          "output_type": "stream",
          "text": [
            "['CASH_OUT' 'PAYMENT' 'CASH_IN' 'TRANSFER' 'DEBIT' 'CASH_OUUUT'\n",
            " 'Trans_fer']\n"
          ]
        }
      ],
      "source": [
        "transaction_types = data['Transaction_Type'].unique()\n",
        "print(transaction_types)"
      ]
    },
    {
      "cell_type": "code",
      "execution_count": 24,
      "metadata": {},
      "outputs": [
        {
          "name": "stdout",
          "output_type": "stream",
          "text": [
            "Time                              0\n",
            "Transaction_Type                  0\n",
            "Amount                            0\n",
            "Origin_ID                         0\n",
            "Initial_Origin_Balance            0\n",
            "Final_Origin_Balance              0\n",
            "Destination_ID                    0\n",
            "Initial_Destination_Balance       0\n",
            "Final_Destination_Balance         0\n",
            "Fraud                             0\n",
            "Expected_Fraud                 4650\n",
            "TransactionAmount                 0\n",
            "dtype: int64\n"
          ]
        }
      ],
      "source": [
        "# No null values are found except for the Expected_fraud column\n",
        "null_count = data.isnull().sum()\n",
        "print(null_count)  # Returns the count of nulls"
      ]
    },
    {
      "cell_type": "code",
      "execution_count": 25,
      "metadata": {},
      "outputs": [],
      "source": [
        "# Create a mapping dictionary for the similar labels\n",
        "transaction_type_mapping = {\n",
        "    'CASH_OUUUT': 'CASH_OUT',\n",
        "    'Trans_fer': 'TRANSFER',\n",
        "    'TRANSFER': 'TRANSFER',  # Keeping it the same for consistency\n",
        "    'CASH_OUT': 'CASH_OUT',  # Keeping it the same\n",
        "    'PAYMENT': 'PAYMENT',  # Keeping it the same\n",
        "    'CASH_IN': 'CASH_IN',  # Keeping it the same\n",
        "}"
      ]
    },
    {
      "cell_type": "code",
      "execution_count": 26,
      "metadata": {},
      "outputs": [
        {
          "name": "stdout",
          "output_type": "stream",
          "text": [
            "Transaction_Type\n",
            "CASH_OUT    21677\n",
            "PAYMENT     17079\n",
            "CASH_IN     10808\n",
            "TRANSFER     8272\n",
            "DEBIT         314\n",
            "Name: count, dtype: int64\n"
          ]
        }
      ],
      "source": [
        "# Apply the mapping to replace inconsistent labels with correct ones\n",
        "data['Transaction_Type'] = data['Transaction_Type'].replace(transaction_type_mapping)\n",
        "\n",
        "# Verify the changes\n",
        "print(data['Transaction_Type'].value_counts())\n",
        "# #Transaction amount is negative if outgoing and positive for incoming"
      ]
    },
    {
      "cell_type": "code",
      "execution_count": 27,
      "metadata": {},
      "outputs": [],
      "source": [
        "# # Assuming your DataFrame is called 'data'\n",
        "\n",
        "# # Step 1: Create a new column 'Transaction_Sign' based on the sign of the 'Amount'\n",
        "# data['Transaction_Amount_sign'] = data['TransactionAmount'].apply(lambda x: 0 if x < 0 else 1)\n",
        "\n",
        "# # Step 2: Group the data by 'Transaction_Type' and 'Transaction_Sign' a\n",
        "# grouped_data = data.groupby(['Transaction_Type', 'Transaction_Amount_sign']).size().unstack(fill_value=0)\n",
        "\n",
        "# # Display the grouped data\n",
        "# #print(grouped_data)\n",
        "# # Assuming the result is stored in 'grouped_data'\n",
        "# reversed_axes = grouped_data.transpose()\n",
        "\n",
        "# # Display the reversed axes DataFrame\n",
        "# print(reversed_axes)"
      ]
    },
    {
      "cell_type": "code",
      "execution_count": 28,
      "metadata": {},
      "outputs": [
        {
          "data": {
            "text/html": [
              "<div>\n",
              "<style scoped>\n",
              "    .dataframe tbody tr th:only-of-type {\n",
              "        vertical-align: middle;\n",
              "    }\n",
              "\n",
              "    .dataframe tbody tr th {\n",
              "        vertical-align: top;\n",
              "    }\n",
              "\n",
              "    .dataframe thead th {\n",
              "        text-align: right;\n",
              "    }\n",
              "</style>\n",
              "<table border=\"1\" class=\"dataframe\">\n",
              "  <thead>\n",
              "    <tr style=\"text-align: right;\">\n",
              "      <th></th>\n",
              "      <th>Time</th>\n",
              "      <th>Transaction_Type</th>\n",
              "      <th>Amount</th>\n",
              "      <th>Origin_ID</th>\n",
              "      <th>Initial_Origin_Balance</th>\n",
              "      <th>Final_Origin_Balance</th>\n",
              "      <th>Destination_ID</th>\n",
              "      <th>Initial_Destination_Balance</th>\n",
              "      <th>Final_Destination_Balance</th>\n",
              "      <th>Fraud</th>\n",
              "      <th>Expected_Fraud</th>\n",
              "      <th>TransactionAmount</th>\n",
              "    </tr>\n",
              "  </thead>\n",
              "  <tbody>\n",
              "    <tr>\n",
              "      <th>0</th>\n",
              "      <td>162</td>\n",
              "      <td>CASH_OUT</td>\n",
              "      <td>183806.32</td>\n",
              "      <td>48751</td>\n",
              "      <td>19391.00</td>\n",
              "      <td>0.00</td>\n",
              "      <td>8311</td>\n",
              "      <td>382572.19</td>\n",
              "      <td>566378.51</td>\n",
              "      <td>0</td>\n",
              "      <td>No</td>\n",
              "      <td>19391.00</td>\n",
              "    </tr>\n",
              "    <tr>\n",
              "      <th>1</th>\n",
              "      <td>137</td>\n",
              "      <td>PAYMENT</td>\n",
              "      <td>521.37</td>\n",
              "      <td>31245</td>\n",
              "      <td>0.00</td>\n",
              "      <td>0.00</td>\n",
              "      <td>50731</td>\n",
              "      <td>0.00</td>\n",
              "      <td>0.00</td>\n",
              "      <td>0</td>\n",
              "      <td>No</td>\n",
              "      <td>0.00</td>\n",
              "    </tr>\n",
              "    <tr>\n",
              "      <th>2</th>\n",
              "      <td>179</td>\n",
              "      <td>PAYMENT</td>\n",
              "      <td>3478.18</td>\n",
              "      <td>21146</td>\n",
              "      <td>19853.00</td>\n",
              "      <td>16374.82</td>\n",
              "      <td>52691</td>\n",
              "      <td>0.00</td>\n",
              "      <td>0.00</td>\n",
              "      <td>0</td>\n",
              "      <td>No</td>\n",
              "      <td>3478.18</td>\n",
              "    </tr>\n",
              "    <tr>\n",
              "      <th>3</th>\n",
              "      <td>355</td>\n",
              "      <td>PAYMENT</td>\n",
              "      <td>1716.05</td>\n",
              "      <td>55464</td>\n",
              "      <td>5769.17</td>\n",
              "      <td>4053.13</td>\n",
              "      <td>42137</td>\n",
              "      <td>0.00</td>\n",
              "      <td>0.00</td>\n",
              "      <td>0</td>\n",
              "      <td>No</td>\n",
              "      <td>1716.04</td>\n",
              "    </tr>\n",
              "    <tr>\n",
              "      <th>4</th>\n",
              "      <td>354</td>\n",
              "      <td>CASH_IN</td>\n",
              "      <td>253129.93</td>\n",
              "      <td>30759</td>\n",
              "      <td>1328499.49</td>\n",
              "      <td>1581629.42</td>\n",
              "      <td>26864</td>\n",
              "      <td>2713220.48</td>\n",
              "      <td>2460090.55</td>\n",
              "      <td>0</td>\n",
              "      <td>No</td>\n",
              "      <td>-253129.93</td>\n",
              "    </tr>\n",
              "  </tbody>\n",
              "</table>\n",
              "</div>"
            ],
            "text/plain": [
              "   Time Transaction_Type     Amount  Origin_ID  Initial_Origin_Balance  \\\n",
              "0   162         CASH_OUT  183806.32      48751                19391.00   \n",
              "1   137          PAYMENT     521.37      31245                    0.00   \n",
              "2   179          PAYMENT    3478.18      21146                19853.00   \n",
              "3   355          PAYMENT    1716.05      55464                 5769.17   \n",
              "4   354          CASH_IN  253129.93      30759              1328499.49   \n",
              "\n",
              "   Final_Origin_Balance  Destination_ID  Initial_Destination_Balance  \\\n",
              "0                  0.00            8311                    382572.19   \n",
              "1                  0.00           50731                         0.00   \n",
              "2              16374.82           52691                         0.00   \n",
              "3               4053.13           42137                         0.00   \n",
              "4            1581629.42           26864                   2713220.48   \n",
              "\n",
              "   Final_Destination_Balance  Fraud Expected_Fraud  TransactionAmount  \n",
              "0                  566378.51      0             No           19391.00  \n",
              "1                       0.00      0             No               0.00  \n",
              "2                       0.00      0             No            3478.18  \n",
              "3                       0.00      0             No            1716.04  \n",
              "4                 2460090.55      0             No         -253129.93  "
            ]
          },
          "execution_count": 28,
          "metadata": {},
          "output_type": "execute_result"
        }
      ],
      "source": [
        "data.head()"
      ]
    },
    {
      "cell_type": "code",
      "execution_count": 29,
      "metadata": {},
      "outputs": [
        {
          "data": {
            "text/html": [
              "<div>\n",
              "<style scoped>\n",
              "    .dataframe tbody tr th:only-of-type {\n",
              "        vertical-align: middle;\n",
              "    }\n",
              "\n",
              "    .dataframe tbody tr th {\n",
              "        vertical-align: top;\n",
              "    }\n",
              "\n",
              "    .dataframe thead th {\n",
              "        text-align: right;\n",
              "    }\n",
              "</style>\n",
              "<table border=\"1\" class=\"dataframe\">\n",
              "  <thead>\n",
              "    <tr style=\"text-align: right;\">\n",
              "      <th></th>\n",
              "      <th>Time</th>\n",
              "      <th>Amount</th>\n",
              "      <th>Origin_ID</th>\n",
              "      <th>Initial_Origin_Balance</th>\n",
              "      <th>Final_Origin_Balance</th>\n",
              "      <th>Destination_ID</th>\n",
              "      <th>Initial_Destination_Balance</th>\n",
              "      <th>Final_Destination_Balance</th>\n",
              "      <th>Fraud</th>\n",
              "      <th>Expected_Fraud</th>\n",
              "      <th>TransactionAmount</th>\n",
              "      <th>Transaction_Type_CASH_IN</th>\n",
              "      <th>Transaction_Type_CASH_OUT</th>\n",
              "      <th>Transaction_Type_DEBIT</th>\n",
              "      <th>Transaction_Type_PAYMENT</th>\n",
              "      <th>Transaction_Type_TRANSFER</th>\n",
              "    </tr>\n",
              "  </thead>\n",
              "  <tbody>\n",
              "    <tr>\n",
              "      <th>0</th>\n",
              "      <td>162</td>\n",
              "      <td>183806.32</td>\n",
              "      <td>48751</td>\n",
              "      <td>19391.00</td>\n",
              "      <td>0.00</td>\n",
              "      <td>8311</td>\n",
              "      <td>382572.19</td>\n",
              "      <td>566378.51</td>\n",
              "      <td>0</td>\n",
              "      <td>No</td>\n",
              "      <td>19391.00</td>\n",
              "      <td>False</td>\n",
              "      <td>True</td>\n",
              "      <td>False</td>\n",
              "      <td>False</td>\n",
              "      <td>False</td>\n",
              "    </tr>\n",
              "    <tr>\n",
              "      <th>1</th>\n",
              "      <td>137</td>\n",
              "      <td>521.37</td>\n",
              "      <td>31245</td>\n",
              "      <td>0.00</td>\n",
              "      <td>0.00</td>\n",
              "      <td>50731</td>\n",
              "      <td>0.00</td>\n",
              "      <td>0.00</td>\n",
              "      <td>0</td>\n",
              "      <td>No</td>\n",
              "      <td>0.00</td>\n",
              "      <td>False</td>\n",
              "      <td>False</td>\n",
              "      <td>False</td>\n",
              "      <td>True</td>\n",
              "      <td>False</td>\n",
              "    </tr>\n",
              "    <tr>\n",
              "      <th>2</th>\n",
              "      <td>179</td>\n",
              "      <td>3478.18</td>\n",
              "      <td>21146</td>\n",
              "      <td>19853.00</td>\n",
              "      <td>16374.82</td>\n",
              "      <td>52691</td>\n",
              "      <td>0.00</td>\n",
              "      <td>0.00</td>\n",
              "      <td>0</td>\n",
              "      <td>No</td>\n",
              "      <td>3478.18</td>\n",
              "      <td>False</td>\n",
              "      <td>False</td>\n",
              "      <td>False</td>\n",
              "      <td>True</td>\n",
              "      <td>False</td>\n",
              "    </tr>\n",
              "    <tr>\n",
              "      <th>3</th>\n",
              "      <td>355</td>\n",
              "      <td>1716.05</td>\n",
              "      <td>55464</td>\n",
              "      <td>5769.17</td>\n",
              "      <td>4053.13</td>\n",
              "      <td>42137</td>\n",
              "      <td>0.00</td>\n",
              "      <td>0.00</td>\n",
              "      <td>0</td>\n",
              "      <td>No</td>\n",
              "      <td>1716.04</td>\n",
              "      <td>False</td>\n",
              "      <td>False</td>\n",
              "      <td>False</td>\n",
              "      <td>True</td>\n",
              "      <td>False</td>\n",
              "    </tr>\n",
              "    <tr>\n",
              "      <th>4</th>\n",
              "      <td>354</td>\n",
              "      <td>253129.93</td>\n",
              "      <td>30759</td>\n",
              "      <td>1328499.49</td>\n",
              "      <td>1581629.42</td>\n",
              "      <td>26864</td>\n",
              "      <td>2713220.48</td>\n",
              "      <td>2460090.55</td>\n",
              "      <td>0</td>\n",
              "      <td>No</td>\n",
              "      <td>-253129.93</td>\n",
              "      <td>True</td>\n",
              "      <td>False</td>\n",
              "      <td>False</td>\n",
              "      <td>False</td>\n",
              "      <td>False</td>\n",
              "    </tr>\n",
              "  </tbody>\n",
              "</table>\n",
              "</div>"
            ],
            "text/plain": [
              "   Time     Amount  Origin_ID  Initial_Origin_Balance  Final_Origin_Balance  \\\n",
              "0   162  183806.32      48751                19391.00                  0.00   \n",
              "1   137     521.37      31245                    0.00                  0.00   \n",
              "2   179    3478.18      21146                19853.00              16374.82   \n",
              "3   355    1716.05      55464                 5769.17               4053.13   \n",
              "4   354  253129.93      30759              1328499.49            1581629.42   \n",
              "\n",
              "   Destination_ID  Initial_Destination_Balance  Final_Destination_Balance  \\\n",
              "0            8311                    382572.19                  566378.51   \n",
              "1           50731                         0.00                       0.00   \n",
              "2           52691                         0.00                       0.00   \n",
              "3           42137                         0.00                       0.00   \n",
              "4           26864                   2713220.48                 2460090.55   \n",
              "\n",
              "   Fraud Expected_Fraud  TransactionAmount  Transaction_Type_CASH_IN  \\\n",
              "0      0             No           19391.00                     False   \n",
              "1      0             No               0.00                     False   \n",
              "2      0             No            3478.18                     False   \n",
              "3      0             No            1716.04                     False   \n",
              "4      0             No         -253129.93                      True   \n",
              "\n",
              "   Transaction_Type_CASH_OUT  Transaction_Type_DEBIT  \\\n",
              "0                       True                   False   \n",
              "1                      False                   False   \n",
              "2                      False                   False   \n",
              "3                      False                   False   \n",
              "4                      False                   False   \n",
              "\n",
              "   Transaction_Type_PAYMENT  Transaction_Type_TRANSFER  \n",
              "0                     False                      False  \n",
              "1                      True                      False  \n",
              "2                      True                      False  \n",
              "3                      True                      False  \n",
              "4                     False                      False  "
            ]
          },
          "execution_count": 29,
          "metadata": {},
          "output_type": "execute_result"
        }
      ],
      "source": [
        "data = pd.get_dummies(data, columns=['Transaction_Type'])\n",
        "data.head()"
      ]
    },
    {
      "cell_type": "code",
      "execution_count": 30,
      "metadata": {},
      "outputs": [],
      "source": [
        "data['source_amount'] = (data['Initial_Origin_Balance'] - data['Final_Origin_Balance'])\n",
        "data['destination_amount'] = (data['Final_Destination_Balance'] - data['Initial_Destination_Balance'])"
      ]
    },
    {
      "cell_type": "code",
      "execution_count": 31,
      "metadata": {},
      "outputs": [],
      "source": [
        "\n",
        "money_columns = ['Amount', 'source_amount', 'destination_amount']"
      ]
    },
    {
      "cell_type": "code",
      "execution_count": 32,
      "metadata": {},
      "outputs": [
        {
          "data": {
            "text/html": [
              "<div>\n",
              "<style scoped>\n",
              "    .dataframe tbody tr th:only-of-type {\n",
              "        vertical-align: middle;\n",
              "    }\n",
              "\n",
              "    .dataframe tbody tr th {\n",
              "        vertical-align: top;\n",
              "    }\n",
              "\n",
              "    .dataframe thead th {\n",
              "        text-align: right;\n",
              "    }\n",
              "</style>\n",
              "<table border=\"1\" class=\"dataframe\">\n",
              "  <thead>\n",
              "    <tr style=\"text-align: right;\">\n",
              "      <th></th>\n",
              "      <th>Amount</th>\n",
              "      <th>source_amount</th>\n",
              "      <th>destination_amount</th>\n",
              "    </tr>\n",
              "  </thead>\n",
              "  <tbody>\n",
              "    <tr>\n",
              "      <th>1</th>\n",
              "      <td>521.37</td>\n",
              "      <td>0.0</td>\n",
              "      <td>0.0</td>\n",
              "    </tr>\n",
              "    <tr>\n",
              "      <th>16</th>\n",
              "      <td>14691.54</td>\n",
              "      <td>0.0</td>\n",
              "      <td>0.0</td>\n",
              "    </tr>\n",
              "    <tr>\n",
              "      <th>27</th>\n",
              "      <td>17968.47</td>\n",
              "      <td>0.0</td>\n",
              "      <td>0.0</td>\n",
              "    </tr>\n",
              "    <tr>\n",
              "      <th>32</th>\n",
              "      <td>3950.45</td>\n",
              "      <td>0.0</td>\n",
              "      <td>0.0</td>\n",
              "    </tr>\n",
              "    <tr>\n",
              "      <th>33</th>\n",
              "      <td>17678.74</td>\n",
              "      <td>0.0</td>\n",
              "      <td>0.0</td>\n",
              "    </tr>\n",
              "  </tbody>\n",
              "</table>\n",
              "</div>"
            ],
            "text/plain": [
              "      Amount  source_amount  destination_amount\n",
              "1     521.37            0.0                 0.0\n",
              "16  14691.54            0.0                 0.0\n",
              "27  17968.47            0.0                 0.0\n",
              "32   3950.45            0.0                 0.0\n",
              "33  17678.74            0.0                 0.0"
            ]
          },
          "execution_count": 32,
          "metadata": {},
          "output_type": "execute_result"
        }
      ],
      "source": [
        "data[(data['source_amount'].abs() == data['destination_amount'].abs()) & (data['source_amount'] != data['Amount'].abs())][money_columns].head()"
      ]
    },
    {
      "cell_type": "code",
      "execution_count": 33,
      "metadata": {},
      "outputs": [],
      "source": [
        "swappables = (data['source_amount'] <= 0) & (data['destination_amount'] <= 0)\n",
        "data.loc[swappables, 'source_amount'], data.loc[swappables, 'destination_amount'] = data.loc[swappables, 'destination_amount'], data.loc[swappables, 'source_amount']"
      ]
    },
    {
      "cell_type": "code",
      "execution_count": 34,
      "metadata": {},
      "outputs": [
        {
          "data": {
            "text/plain": [
              "Fraud  time_of_day\n",
              "0      19             5076\n",
              "       18             4586\n",
              "       20             4261\n",
              "       12             3834\n",
              "       13             3775\n",
              "       14             3575\n",
              "       16             3504\n",
              "       17             3473\n",
              "       11             3465\n",
              "       10             3336\n",
              "       15             3226\n",
              "       9              2169\n",
              "       21             1896\n",
              "       22             1532\n",
              "       23             1114\n",
              "       0               537\n",
              "       8               226\n",
              "       1               217\n",
              "       7                75\n",
              "       2                61\n",
              "       6                23\n",
              "       3                16\n",
              "       5                15\n",
              "       4                 8\n",
              "1      10              371\n",
              "       2               369\n",
              "       8               364\n",
              "       5               363\n",
              "       6               355\n",
              "       14              353\n",
              "       1               352\n",
              "       17              349\n",
              "       22              348\n",
              "       16              344\n",
              "       21              344\n",
              "       13              343\n",
              "       9               340\n",
              "       18              340\n",
              "       19              340\n",
              "       12              336\n",
              "       20              336\n",
              "       15              335\n",
              "       7               328\n",
              "       3               325\n",
              "       11              323\n",
              "       23              321\n",
              "       0               299\n",
              "       4               272\n",
              "Name: count, dtype: int64"
            ]
          },
          "execution_count": 34,
          "metadata": {},
          "output_type": "execute_result"
        }
      ],
      "source": [
        "data['time_of_day'] = data['Time']%24\n",
        "data.groupby('Fraud')['time_of_day'].value_counts()\n"
      ]
    },
    {
      "cell_type": "code",
      "execution_count": 35,
      "metadata": {},
      "outputs": [
        {
          "data": {
            "text/plain": [
              "Fraud  Time\n",
              "0      19      416\n",
              "       235     402\n",
              "       18      397\n",
              "       14      379\n",
              "       403     371\n",
              "              ... \n",
              "1      525       2\n",
              "       548       2\n",
              "       589       2\n",
              "       662       2\n",
              "       23        1\n",
              "Name: count, Length: 1145, dtype: int64"
            ]
          },
          "execution_count": 35,
          "metadata": {},
          "output_type": "execute_result"
        }
      ],
      "source": [
        "data.groupby('Fraud')['Time'].value_counts()\n"
      ]
    },
    {
      "cell_type": "code",
      "execution_count": 36,
      "metadata": {},
      "outputs": [
        {
          "data": {
            "text/html": [
              "<div>\n",
              "<style scoped>\n",
              "    .dataframe tbody tr th:only-of-type {\n",
              "        vertical-align: middle;\n",
              "    }\n",
              "\n",
              "    .dataframe tbody tr th {\n",
              "        vertical-align: top;\n",
              "    }\n",
              "\n",
              "    .dataframe thead th {\n",
              "        text-align: right;\n",
              "    }\n",
              "</style>\n",
              "<table border=\"1\" class=\"dataframe\">\n",
              "  <thead>\n",
              "    <tr style=\"text-align: right;\">\n",
              "      <th></th>\n",
              "      <th>Amount</th>\n",
              "      <th>Final_Origin_Balance</th>\n",
              "      <th>Final_Destination_Balance</th>\n",
              "      <th>Fraud</th>\n",
              "      <th>Transaction_Type_CASH_IN</th>\n",
              "      <th>Transaction_Type_CASH_OUT</th>\n",
              "      <th>Transaction_Type_DEBIT</th>\n",
              "      <th>Transaction_Type_PAYMENT</th>\n",
              "      <th>Transaction_Type_TRANSFER</th>\n",
              "    </tr>\n",
              "  </thead>\n",
              "  <tbody>\n",
              "    <tr>\n",
              "      <th>0</th>\n",
              "      <td>183806.32</td>\n",
              "      <td>0.00</td>\n",
              "      <td>566378.51</td>\n",
              "      <td>0</td>\n",
              "      <td>False</td>\n",
              "      <td>True</td>\n",
              "      <td>False</td>\n",
              "      <td>False</td>\n",
              "      <td>False</td>\n",
              "    </tr>\n",
              "    <tr>\n",
              "      <th>1</th>\n",
              "      <td>521.37</td>\n",
              "      <td>0.00</td>\n",
              "      <td>0.00</td>\n",
              "      <td>0</td>\n",
              "      <td>False</td>\n",
              "      <td>False</td>\n",
              "      <td>False</td>\n",
              "      <td>True</td>\n",
              "      <td>False</td>\n",
              "    </tr>\n",
              "    <tr>\n",
              "      <th>2</th>\n",
              "      <td>3478.18</td>\n",
              "      <td>16374.82</td>\n",
              "      <td>0.00</td>\n",
              "      <td>0</td>\n",
              "      <td>False</td>\n",
              "      <td>False</td>\n",
              "      <td>False</td>\n",
              "      <td>True</td>\n",
              "      <td>False</td>\n",
              "    </tr>\n",
              "    <tr>\n",
              "      <th>3</th>\n",
              "      <td>1716.05</td>\n",
              "      <td>4053.13</td>\n",
              "      <td>0.00</td>\n",
              "      <td>0</td>\n",
              "      <td>False</td>\n",
              "      <td>False</td>\n",
              "      <td>False</td>\n",
              "      <td>True</td>\n",
              "      <td>False</td>\n",
              "    </tr>\n",
              "    <tr>\n",
              "      <th>4</th>\n",
              "      <td>253129.93</td>\n",
              "      <td>1581629.42</td>\n",
              "      <td>2460090.55</td>\n",
              "      <td>0</td>\n",
              "      <td>True</td>\n",
              "      <td>False</td>\n",
              "      <td>False</td>\n",
              "      <td>False</td>\n",
              "      <td>False</td>\n",
              "    </tr>\n",
              "  </tbody>\n",
              "</table>\n",
              "</div>"
            ],
            "text/plain": [
              "      Amount  Final_Origin_Balance  Final_Destination_Balance  Fraud  \\\n",
              "0  183806.32                  0.00                  566378.51      0   \n",
              "1     521.37                  0.00                       0.00      0   \n",
              "2    3478.18              16374.82                       0.00      0   \n",
              "3    1716.05               4053.13                       0.00      0   \n",
              "4  253129.93            1581629.42                 2460090.55      0   \n",
              "\n",
              "   Transaction_Type_CASH_IN  Transaction_Type_CASH_OUT  \\\n",
              "0                     False                       True   \n",
              "1                     False                      False   \n",
              "2                     False                      False   \n",
              "3                     False                      False   \n",
              "4                      True                      False   \n",
              "\n",
              "   Transaction_Type_DEBIT  Transaction_Type_PAYMENT  Transaction_Type_TRANSFER  \n",
              "0                   False                     False                      False  \n",
              "1                   False                      True                      False  \n",
              "2                   False                      True                      False  \n",
              "3                   False                      True                      False  \n",
              "4                   False                     False                      False  "
            ]
          },
          "execution_count": 36,
          "metadata": {},
          "output_type": "execute_result"
        }
      ],
      "source": [
        "columns_to_drop = [\n",
        "    'Origin_ID', 'Destination_ID', 'Initial_Origin_Balance', \n",
        "    'Initial_Destination_Balance', 'Expected_Fraud', \n",
        "    'source_amount', 'destination_amount', 'TransactionAmount', 'time_of_day', 'Time'\n",
        "]\n",
        "\n",
        "# Drop columns if they exist\n",
        "data = data.drop(columns=[col for col in columns_to_drop if col in data.columns])\n",
        "\n",
        "data.head()"
      ]
    },
    {
      "cell_type": "code",
      "execution_count": null,
      "metadata": {},
      "outputs": [],
      "source": []
    },
    {
      "cell_type": "code",
      "execution_count": 37,
      "metadata": {},
      "outputs": [
        {
          "data": {
            "text/html": [
              "<div>\n",
              "<style scoped>\n",
              "    .dataframe tbody tr th:only-of-type {\n",
              "        vertical-align: middle;\n",
              "    }\n",
              "\n",
              "    .dataframe tbody tr th {\n",
              "        vertical-align: top;\n",
              "    }\n",
              "\n",
              "    .dataframe thead th {\n",
              "        text-align: right;\n",
              "    }\n",
              "</style>\n",
              "<table border=\"1\" class=\"dataframe\">\n",
              "  <thead>\n",
              "    <tr style=\"text-align: right;\">\n",
              "      <th></th>\n",
              "      <th>Amount</th>\n",
              "      <th>Final_Origin_Balance</th>\n",
              "      <th>Final_Destination_Balance</th>\n",
              "      <th>Fraud</th>\n",
              "      <th>Transaction_Type_CASH_IN</th>\n",
              "      <th>Transaction_Type_CASH_OUT</th>\n",
              "      <th>Transaction_Type_DEBIT</th>\n",
              "      <th>Transaction_Type_PAYMENT</th>\n",
              "      <th>Transaction_Type_TRANSFER</th>\n",
              "    </tr>\n",
              "  </thead>\n",
              "  <tbody>\n",
              "    <tr>\n",
              "      <th>0</th>\n",
              "      <td>183806.32</td>\n",
              "      <td>0.00</td>\n",
              "      <td>566378.51</td>\n",
              "      <td>0</td>\n",
              "      <td>False</td>\n",
              "      <td>True</td>\n",
              "      <td>False</td>\n",
              "      <td>False</td>\n",
              "      <td>False</td>\n",
              "    </tr>\n",
              "    <tr>\n",
              "      <th>1</th>\n",
              "      <td>521.37</td>\n",
              "      <td>0.00</td>\n",
              "      <td>0.00</td>\n",
              "      <td>0</td>\n",
              "      <td>False</td>\n",
              "      <td>False</td>\n",
              "      <td>False</td>\n",
              "      <td>True</td>\n",
              "      <td>False</td>\n",
              "    </tr>\n",
              "    <tr>\n",
              "      <th>2</th>\n",
              "      <td>3478.18</td>\n",
              "      <td>16374.82</td>\n",
              "      <td>0.00</td>\n",
              "      <td>0</td>\n",
              "      <td>False</td>\n",
              "      <td>False</td>\n",
              "      <td>False</td>\n",
              "      <td>True</td>\n",
              "      <td>False</td>\n",
              "    </tr>\n",
              "    <tr>\n",
              "      <th>3</th>\n",
              "      <td>1716.05</td>\n",
              "      <td>4053.13</td>\n",
              "      <td>0.00</td>\n",
              "      <td>0</td>\n",
              "      <td>False</td>\n",
              "      <td>False</td>\n",
              "      <td>False</td>\n",
              "      <td>True</td>\n",
              "      <td>False</td>\n",
              "    </tr>\n",
              "    <tr>\n",
              "      <th>4</th>\n",
              "      <td>253129.93</td>\n",
              "      <td>1581629.42</td>\n",
              "      <td>2460090.55</td>\n",
              "      <td>0</td>\n",
              "      <td>True</td>\n",
              "      <td>False</td>\n",
              "      <td>False</td>\n",
              "      <td>False</td>\n",
              "      <td>False</td>\n",
              "    </tr>\n",
              "  </tbody>\n",
              "</table>\n",
              "</div>"
            ],
            "text/plain": [
              "      Amount  Final_Origin_Balance  Final_Destination_Balance  Fraud  \\\n",
              "0  183806.32                  0.00                  566378.51      0   \n",
              "1     521.37                  0.00                       0.00      0   \n",
              "2    3478.18              16374.82                       0.00      0   \n",
              "3    1716.05               4053.13                       0.00      0   \n",
              "4  253129.93            1581629.42                 2460090.55      0   \n",
              "\n",
              "   Transaction_Type_CASH_IN  Transaction_Type_CASH_OUT  \\\n",
              "0                     False                       True   \n",
              "1                     False                      False   \n",
              "2                     False                      False   \n",
              "3                     False                      False   \n",
              "4                      True                      False   \n",
              "\n",
              "   Transaction_Type_DEBIT  Transaction_Type_PAYMENT  Transaction_Type_TRANSFER  \n",
              "0                   False                     False                      False  \n",
              "1                   False                      True                      False  \n",
              "2                   False                      True                      False  \n",
              "3                   False                      True                      False  \n",
              "4                   False                     False                      False  "
            ]
          },
          "execution_count": 37,
          "metadata": {},
          "output_type": "execute_result"
        }
      ],
      "source": [
        "data.head()"
      ]
    },
    {
      "cell_type": "code",
      "execution_count": 38,
      "metadata": {},
      "outputs": [],
      "source": [
        "data.to_csv('cleaned_data.csv', index=False)"
      ]
    },
    {
      "cell_type": "code",
      "execution_count": null,
      "metadata": {},
      "outputs": [],
      "source": []
    },
    {
      "cell_type": "code",
      "execution_count": null,
      "metadata": {},
      "outputs": [],
      "source": []
    },
    {
      "cell_type": "code",
      "execution_count": null,
      "metadata": {},
      "outputs": [],
      "source": []
    },
    {
      "cell_type": "code",
      "execution_count": null,
      "metadata": {},
      "outputs": [],
      "source": []
    },
    {
      "cell_type": "code",
      "execution_count": null,
      "metadata": {},
      "outputs": [],
      "source": []
    },
    {
      "cell_type": "code",
      "execution_count": null,
      "metadata": {},
      "outputs": [],
      "source": []
    }
  ],
  "metadata": {
    "kernelspec": {
      "display_name": "Python 3",
      "language": "python",
      "name": "python3"
    },
    "language_info": {
      "codemirror_mode": {
        "name": "ipython",
        "version": 3
      },
      "file_extension": ".py",
      "mimetype": "text/x-python",
      "name": "python",
      "nbconvert_exporter": "python",
      "pygments_lexer": "ipython3",
      "version": "3.10.12"
    }
  },
  "nbformat": 4,
  "nbformat_minor": 2
}
