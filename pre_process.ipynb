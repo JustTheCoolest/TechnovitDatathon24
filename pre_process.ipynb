{
 "cells": [
  {
   "cell_type": "code",
   "execution_count": 68,
   "metadata": {},
   "outputs": [],
   "source": [
    "import pandas as pd \n",
    "import numpy as np "
   ]
  },
  {
   "cell_type": "code",
   "execution_count": 69,
   "metadata": {},
   "outputs": [],
   "source": [
    "from sklearn.preprocessing import LabelEncoder"
   ]
  },
  {
   "cell_type": "code",
   "execution_count": 70,
   "metadata": {},
   "outputs": [],
   "source": [
    "data = pd.read_csv('DATATHON_EVENT_DATASET.csv')"
   ]
  },
  {
   "cell_type": "code",
   "execution_count": 71,
   "metadata": {},
   "outputs": [
    {
     "data": {
      "text/html": [
       "<div>\n",
       "<style scoped>\n",
       "    .dataframe tbody tr th:only-of-type {\n",
       "        vertical-align: middle;\n",
       "    }\n",
       "\n",
       "    .dataframe tbody tr th {\n",
       "        vertical-align: top;\n",
       "    }\n",
       "\n",
       "    .dataframe thead th {\n",
       "        text-align: right;\n",
       "    }\n",
       "</style>\n",
       "<table border=\"1\" class=\"dataframe\">\n",
       "  <thead>\n",
       "    <tr style=\"text-align: right;\">\n",
       "      <th></th>\n",
       "      <th>Time</th>\n",
       "      <th>Transaction_Type</th>\n",
       "      <th>Amount</th>\n",
       "      <th>Origin_ID</th>\n",
       "      <th>Initial_Origin_Balance</th>\n",
       "      <th>Final_Origin_Balance</th>\n",
       "      <th>Destination_ID</th>\n",
       "      <th>Initial_Destination_Balance</th>\n",
       "      <th>Final_Destination_Balance</th>\n",
       "      <th>Fraud</th>\n",
       "      <th>Expected_Fraud</th>\n",
       "    </tr>\n",
       "  </thead>\n",
       "  <tbody>\n",
       "    <tr>\n",
       "      <th>0</th>\n",
       "      <td>162</td>\n",
       "      <td>CASH_OUT</td>\n",
       "      <td>183806.32</td>\n",
       "      <td>C691771226</td>\n",
       "      <td>19391.00</td>\n",
       "      <td>0.00</td>\n",
       "      <td>C1416312719</td>\n",
       "      <td>382572.19</td>\n",
       "      <td>566378.51</td>\n",
       "      <td>No</td>\n",
       "      <td>No</td>\n",
       "    </tr>\n",
       "    <tr>\n",
       "      <th>1</th>\n",
       "      <td>137</td>\n",
       "      <td>PAYMENT</td>\n",
       "      <td>521.37</td>\n",
       "      <td>C203378011</td>\n",
       "      <td>0.00</td>\n",
       "      <td>0.00</td>\n",
       "      <td>M42773300</td>\n",
       "      <td>0.00</td>\n",
       "      <td>0.00</td>\n",
       "      <td>No</td>\n",
       "      <td>No</td>\n",
       "    </tr>\n",
       "    <tr>\n",
       "      <th>2</th>\n",
       "      <td>179</td>\n",
       "      <td>PAYMENT</td>\n",
       "      <td>3478.18</td>\n",
       "      <td>C1698571270</td>\n",
       "      <td>19853.00</td>\n",
       "      <td>16374.82</td>\n",
       "      <td>M643984524</td>\n",
       "      <td>0.00</td>\n",
       "      <td>0.00</td>\n",
       "      <td>No</td>\n",
       "      <td>No</td>\n",
       "    </tr>\n",
       "    <tr>\n",
       "      <th>3</th>\n",
       "      <td>355</td>\n",
       "      <td>PAYMENT</td>\n",
       "      <td>1716.05</td>\n",
       "      <td>C913764937</td>\n",
       "      <td>5769.17</td>\n",
       "      <td>4053.13</td>\n",
       "      <td>M1387429131</td>\n",
       "      <td>0.00</td>\n",
       "      <td>0.00</td>\n",
       "      <td>No</td>\n",
       "      <td>No</td>\n",
       "    </tr>\n",
       "    <tr>\n",
       "      <th>4</th>\n",
       "      <td>354</td>\n",
       "      <td>CASH_IN</td>\n",
       "      <td>253129.93</td>\n",
       "      <td>C2017736577</td>\n",
       "      <td>1328499.49</td>\n",
       "      <td>1581629.42</td>\n",
       "      <td>C407484102</td>\n",
       "      <td>2713220.48</td>\n",
       "      <td>2460090.55</td>\n",
       "      <td>No</td>\n",
       "      <td>No</td>\n",
       "    </tr>\n",
       "  </tbody>\n",
       "</table>\n",
       "</div>"
      ],
      "text/plain": [
       "   Time Transaction_Type     Amount    Origin_ID  Initial_Origin_Balance  \\\n",
       "0   162         CASH_OUT  183806.32   C691771226                19391.00   \n",
       "1   137          PAYMENT     521.37   C203378011                    0.00   \n",
       "2   179          PAYMENT    3478.18  C1698571270                19853.00   \n",
       "3   355          PAYMENT    1716.05   C913764937                 5769.17   \n",
       "4   354          CASH_IN  253129.93  C2017736577              1328499.49   \n",
       "\n",
       "   Final_Origin_Balance Destination_ID  Initial_Destination_Balance  \\\n",
       "0                  0.00    C1416312719                    382572.19   \n",
       "1                  0.00      M42773300                         0.00   \n",
       "2              16374.82     M643984524                         0.00   \n",
       "3               4053.13    M1387429131                         0.00   \n",
       "4            1581629.42     C407484102                   2713220.48   \n",
       "\n",
       "   Final_Destination_Balance Fraud Expected_Fraud  \n",
       "0                  566378.51    No             No  \n",
       "1                       0.00    No             No  \n",
       "2                       0.00    No             No  \n",
       "3                       0.00    No             No  \n",
       "4                 2460090.55    No             No  "
      ]
     },
     "execution_count": 71,
     "metadata": {},
     "output_type": "execute_result"
    }
   ],
   "source": [
    "data.head()"
   ]
  },
  {
   "cell_type": "code",
   "execution_count": 72,
   "metadata": {},
   "outputs": [],
   "source": [
    "# data = data.drop(\"Expected_Fraud\", axis=1)"
   ]
  },
  {
   "cell_type": "code",
   "execution_count": 73,
   "metadata": {},
   "outputs": [
    {
     "data": {
      "text/plain": [
       "Time                             int64\n",
       "Transaction_Type                object\n",
       "Amount                         float64\n",
       "Origin_ID                       object\n",
       "Initial_Origin_Balance         float64\n",
       "Final_Origin_Balance           float64\n",
       "Destination_ID                  object\n",
       "Initial_Destination_Balance    float64\n",
       "Final_Destination_Balance      float64\n",
       "Fraud                           object\n",
       "Expected_Fraud                  object\n",
       "dtype: object"
      ]
     },
     "execution_count": 73,
     "metadata": {},
     "output_type": "execute_result"
    }
   ],
   "source": [
    "data.dtypes"
   ]
  },
  {
   "cell_type": "code",
   "execution_count": 74,
   "metadata": {},
   "outputs": [],
   "source": [
    "data['TransactionAmount'] = data['Final_Origin_Balance'] - data['Initial_Origin_Balance']"
   ]
  },
  {
   "cell_type": "code",
   "execution_count": 75,
   "metadata": {},
   "outputs": [],
   "source": [
    "# data = data.drop(['Initial_Origin_Balance', 'Initial_Destination_Balance'], axis=1)"
   ]
  },
  {
   "cell_type": "code",
   "execution_count": 76,
   "metadata": {},
   "outputs": [
    {
     "data": {
      "text/plain": [
       "Index(['Time', 'Transaction_Type', 'Amount', 'Origin_ID',\n",
       "       'Initial_Origin_Balance', 'Final_Origin_Balance', 'Destination_ID',\n",
       "       'Initial_Destination_Balance', 'Final_Destination_Balance', 'Fraud',\n",
       "       'Expected_Fraud', 'TransactionAmount'],\n",
       "      dtype='object')"
      ]
     },
     "execution_count": 76,
     "metadata": {},
     "output_type": "execute_result"
    }
   ],
   "source": [
    "data.columns"
   ]
  },
  {
   "cell_type": "code",
   "execution_count": 77,
   "metadata": {},
   "outputs": [],
   "source": [
    "# # Function to hash Origin_ID\n",
    "# def hash_origin_id(origin_id):\n",
    "#     return hashlib.sha256(origin_id.encode()).hexdigest()\n",
    "\n",
    "# # Apply the function to the Origin_ID column\n",
    "# data['Hashed_Origin_ID'] = data['Origin_ID'].apply(hash_origin_id).rank(method=\"dense\").astype(int)\n",
    "# data['Hashed_Destination_ID'] = data['Destination_ID'].apply(hash_origin_id).rank(method=\"dense\").astype(int)\n",
    "\n",
    "encodables = ['Origin_ID', 'Destination_ID']\n",
    "encoders = {}\n",
    "for column in encodables:\n",
    "    le = LabelEncoder()\n",
    "    data[column] = le.fit_transform(data[column])\n",
    "    encoders[column] = le"
   ]
  },
  {
   "cell_type": "code",
   "execution_count": 78,
   "metadata": {},
   "outputs": [
    {
     "data": {
      "text/html": [
       "<div>\n",
       "<style scoped>\n",
       "    .dataframe tbody tr th:only-of-type {\n",
       "        vertical-align: middle;\n",
       "    }\n",
       "\n",
       "    .dataframe tbody tr th {\n",
       "        vertical-align: top;\n",
       "    }\n",
       "\n",
       "    .dataframe thead th {\n",
       "        text-align: right;\n",
       "    }\n",
       "</style>\n",
       "<table border=\"1\" class=\"dataframe\">\n",
       "  <thead>\n",
       "    <tr style=\"text-align: right;\">\n",
       "      <th></th>\n",
       "      <th>Time</th>\n",
       "      <th>Transaction_Type</th>\n",
       "      <th>Amount</th>\n",
       "      <th>Origin_ID</th>\n",
       "      <th>Initial_Origin_Balance</th>\n",
       "      <th>Final_Origin_Balance</th>\n",
       "      <th>Destination_ID</th>\n",
       "      <th>Initial_Destination_Balance</th>\n",
       "      <th>Final_Destination_Balance</th>\n",
       "      <th>Fraud</th>\n",
       "      <th>Expected_Fraud</th>\n",
       "      <th>TransactionAmount</th>\n",
       "    </tr>\n",
       "  </thead>\n",
       "  <tbody>\n",
       "    <tr>\n",
       "      <th>0</th>\n",
       "      <td>162</td>\n",
       "      <td>CASH_OUT</td>\n",
       "      <td>183806.32</td>\n",
       "      <td>48751</td>\n",
       "      <td>19391.00</td>\n",
       "      <td>0.00</td>\n",
       "      <td>8311</td>\n",
       "      <td>382572.19</td>\n",
       "      <td>566378.51</td>\n",
       "      <td>No</td>\n",
       "      <td>No</td>\n",
       "      <td>-19391.00</td>\n",
       "    </tr>\n",
       "    <tr>\n",
       "      <th>1</th>\n",
       "      <td>137</td>\n",
       "      <td>PAYMENT</td>\n",
       "      <td>521.37</td>\n",
       "      <td>31245</td>\n",
       "      <td>0.00</td>\n",
       "      <td>0.00</td>\n",
       "      <td>50731</td>\n",
       "      <td>0.00</td>\n",
       "      <td>0.00</td>\n",
       "      <td>No</td>\n",
       "      <td>No</td>\n",
       "      <td>0.00</td>\n",
       "    </tr>\n",
       "    <tr>\n",
       "      <th>2</th>\n",
       "      <td>179</td>\n",
       "      <td>PAYMENT</td>\n",
       "      <td>3478.18</td>\n",
       "      <td>21146</td>\n",
       "      <td>19853.00</td>\n",
       "      <td>16374.82</td>\n",
       "      <td>52691</td>\n",
       "      <td>0.00</td>\n",
       "      <td>0.00</td>\n",
       "      <td>No</td>\n",
       "      <td>No</td>\n",
       "      <td>-3478.18</td>\n",
       "    </tr>\n",
       "    <tr>\n",
       "      <th>3</th>\n",
       "      <td>355</td>\n",
       "      <td>PAYMENT</td>\n",
       "      <td>1716.05</td>\n",
       "      <td>55464</td>\n",
       "      <td>5769.17</td>\n",
       "      <td>4053.13</td>\n",
       "      <td>42137</td>\n",
       "      <td>0.00</td>\n",
       "      <td>0.00</td>\n",
       "      <td>No</td>\n",
       "      <td>No</td>\n",
       "      <td>-1716.04</td>\n",
       "    </tr>\n",
       "    <tr>\n",
       "      <th>4</th>\n",
       "      <td>354</td>\n",
       "      <td>CASH_IN</td>\n",
       "      <td>253129.93</td>\n",
       "      <td>30759</td>\n",
       "      <td>1328499.49</td>\n",
       "      <td>1581629.42</td>\n",
       "      <td>26864</td>\n",
       "      <td>2713220.48</td>\n",
       "      <td>2460090.55</td>\n",
       "      <td>No</td>\n",
       "      <td>No</td>\n",
       "      <td>253129.93</td>\n",
       "    </tr>\n",
       "  </tbody>\n",
       "</table>\n",
       "</div>"
      ],
      "text/plain": [
       "   Time Transaction_Type     Amount  Origin_ID  Initial_Origin_Balance  \\\n",
       "0   162         CASH_OUT  183806.32      48751                19391.00   \n",
       "1   137          PAYMENT     521.37      31245                    0.00   \n",
       "2   179          PAYMENT    3478.18      21146                19853.00   \n",
       "3   355          PAYMENT    1716.05      55464                 5769.17   \n",
       "4   354          CASH_IN  253129.93      30759              1328499.49   \n",
       "\n",
       "   Final_Origin_Balance  Destination_ID  Initial_Destination_Balance  \\\n",
       "0                  0.00            8311                    382572.19   \n",
       "1                  0.00           50731                         0.00   \n",
       "2              16374.82           52691                         0.00   \n",
       "3               4053.13           42137                         0.00   \n",
       "4            1581629.42           26864                   2713220.48   \n",
       "\n",
       "   Final_Destination_Balance Fraud Expected_Fraud  TransactionAmount  \n",
       "0                  566378.51    No             No          -19391.00  \n",
       "1                       0.00    No             No               0.00  \n",
       "2                       0.00    No             No           -3478.18  \n",
       "3                       0.00    No             No           -1716.04  \n",
       "4                 2460090.55    No             No          253129.93  "
      ]
     },
     "execution_count": 78,
     "metadata": {},
     "output_type": "execute_result"
    }
   ],
   "source": [
    "data.head()"
   ]
  },
  {
   "cell_type": "code",
   "execution_count": 79,
   "metadata": {},
   "outputs": [],
   "source": [
    "# data = data.drop(['Origin_ID', 'Destination_ID'], axis=1)"
   ]
  },
  {
   "cell_type": "code",
   "execution_count": 80,
   "metadata": {},
   "outputs": [
    {
     "data": {
      "text/plain": [
       "Index(['Time', 'Transaction_Type', 'Amount', 'Origin_ID',\n",
       "       'Initial_Origin_Balance', 'Final_Origin_Balance', 'Destination_ID',\n",
       "       'Initial_Destination_Balance', 'Final_Destination_Balance', 'Fraud',\n",
       "       'Expected_Fraud', 'TransactionAmount'],\n",
       "      dtype='object')"
      ]
     },
     "execution_count": 80,
     "metadata": {},
     "output_type": "execute_result"
    }
   ],
   "source": [
    "data.columns"
   ]
  },
  {
   "cell_type": "code",
   "execution_count": 81,
   "metadata": {},
   "outputs": [
    {
     "data": {
      "text/plain": [
       "Time                             int64\n",
       "Transaction_Type                object\n",
       "Amount                         float64\n",
       "Origin_ID                        int64\n",
       "Initial_Origin_Balance         float64\n",
       "Final_Origin_Balance           float64\n",
       "Destination_ID                   int64\n",
       "Initial_Destination_Balance    float64\n",
       "Final_Destination_Balance      float64\n",
       "Fraud                           object\n",
       "Expected_Fraud                  object\n",
       "TransactionAmount              float64\n",
       "dtype: object"
      ]
     },
     "execution_count": 81,
     "metadata": {},
     "output_type": "execute_result"
    }
   ],
   "source": [
    "data.dtypes"
   ]
  },
  {
   "cell_type": "code",
   "execution_count": 82,
   "metadata": {},
   "outputs": [
    {
     "data": {
      "text/plain": [
       "Destination_ID\n",
       "16550    4\n",
       "11210    4\n",
       "9075     4\n",
       "36738    4\n",
       "5071     4\n",
       "        ..\n",
       "24278    1\n",
       "43687    1\n",
       "13330    1\n",
       "4483     1\n",
       "21638    1\n",
       "Name: count, Length: 55837, dtype: int64"
      ]
     },
     "execution_count": 82,
     "metadata": {},
     "output_type": "execute_result"
    }
   ],
   "source": [
    "data['Destination_ID'].value_counts()"
   ]
  },
  {
   "cell_type": "code",
   "execution_count": 83,
   "metadata": {},
   "outputs": [
    {
     "data": {
      "text/plain": [
       "Origin_ID\n",
       "48751    1\n",
       "44445    1\n",
       "47017    1\n",
       "25754    1\n",
       "15067    1\n",
       "        ..\n",
       "55054    1\n",
       "8980     1\n",
       "32777    1\n",
       "7840     1\n",
       "8513     1\n",
       "Name: count, Length: 58150, dtype: int64"
      ]
     },
     "execution_count": 83,
     "metadata": {},
     "output_type": "execute_result"
    }
   ],
   "source": [
    "data['Origin_ID'].value_counts()"
   ]
  },
  {
   "cell_type": "code",
   "execution_count": null,
   "metadata": {},
   "outputs": [],
   "source": []
  },
  {
   "cell_type": "code",
   "execution_count": 84,
   "metadata": {},
   "outputs": [
    {
     "data": {
      "text/plain": [
       "Index(['Time', 'Transaction_Type', 'Amount', 'Origin_ID',\n",
       "       'Initial_Origin_Balance', 'Final_Origin_Balance', 'Destination_ID',\n",
       "       'Initial_Destination_Balance', 'Final_Destination_Balance', 'Fraud',\n",
       "       'Expected_Fraud', 'TransactionAmount'],\n",
       "      dtype='object')"
      ]
     },
     "execution_count": 84,
     "metadata": {},
     "output_type": "execute_result"
    }
   ],
   "source": [
    "data.columns"
   ]
  },
  {
   "cell_type": "code",
   "execution_count": 86,
   "metadata": {},
   "outputs": [
    {
     "data": {
      "text/plain": [
       "(58150, 12)"
      ]
     },
     "execution_count": 86,
     "metadata": {},
     "output_type": "execute_result"
    }
   ],
   "source": [
    "data.shape"
   ]
  },
  {
   "cell_type": "code",
   "execution_count": 94,
   "metadata": {},
   "outputs": [
    {
     "data": {
      "text/plain": [
       "0        False\n",
       "1        False\n",
       "2        False\n",
       "3        False\n",
       "4        False\n",
       "         ...  \n",
       "58145    False\n",
       "58146    False\n",
       "58147    False\n",
       "58148    False\n",
       "58149    False\n",
       "Length: 58150, dtype: bool"
      ]
     },
     "execution_count": 94,
     "metadata": {},
     "output_type": "execute_result"
    }
   ],
   "source": [
    "(data['Initial_Origin_Balance'] - data['Final_Origin_Balance']) == (data['Final_Destination_Balance'] - data['Initial_Destination_Balance'])\n"
   ]
  },
  {
   "cell_type": "code",
   "execution_count": 85,
   "metadata": {},
   "outputs": [],
   "source": [
    "# data = data.drop(['Origin_ID', 'Destination_ID', 'Initial_Origin_Balance', 'Initial_Destination_Balance'], axis=1)"
   ]
  }
 ],
 "metadata": {
  "kernelspec": {
   "display_name": "Python 3",
   "language": "python",
   "name": "python3"
  },
  "language_info": {
   "codemirror_mode": {
    "name": "ipython",
    "version": 3
   },
   "file_extension": ".py",
   "mimetype": "text/x-python",
   "name": "python",
   "nbconvert_exporter": "python",
   "pygments_lexer": "ipython3",
   "version": "3.10.12"
  }
 },
 "nbformat": 4,
 "nbformat_minor": 2
}
