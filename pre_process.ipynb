{
  "cells": [
    {
      "cell_type": "code",
      "execution_count": 1,
      "metadata": {},
      "outputs": [],
      "source": [
        "import pandas as pd \n",
        "import numpy as np "
      ]
    },
    {
      "cell_type": "code",
      "execution_count": 2,
      "metadata": {},
      "outputs": [
        {
          "name": "stderr",
          "output_type": "stream",
          "text": [
            "/usr/lib/python3/dist-packages/scipy/__init__.py:146: UserWarning: A NumPy version >=1.17.3 and <1.25.0 is required for this version of SciPy (detected version 1.26.3\n",
            "  warnings.warn(f\"A NumPy version >={np_minversion} and <{np_maxversion}\"\n"
          ]
        }
      ],
      "source": [
        "from sklearn.preprocessing import LabelEncoder"
      ]
    },
    {
      "cell_type": "code",
      "execution_count": 3,
      "metadata": {},
      "outputs": [],
      "source": [
        "data = pd.read_csv('DATATHON_EVENT_DATASET.csv')\n",
        "test_data = pd.read_csv('DATATHON_Test.csv')"
      ]
    },
    {
      "cell_type": "code",
      "execution_count": null,
      "metadata": {},
      "outputs": [],
      "source": [
        "data.head()"
      ]
    },
    {
      "cell_type": "code",
      "execution_count": null,
      "metadata": {},
      "outputs": [],
      "source": [
        "# data = data.drop(\"Expected_Fraud\", axis=1)"
      ]
    },
    {
      "cell_type": "code",
      "execution_count": null,
      "metadata": {},
      "outputs": [],
      "source": [
        "data.dtypes"
      ]
    },
    {
      "cell_type": "code",
      "execution_count": null,
      "metadata": {},
      "outputs": [],
      "source": [
        "data['TransactionAmount'] = - data['Final_Origin_Balance'] + data['Initial_Origin_Balance']"
      ]
    },
    {
      "cell_type": "code",
      "execution_count": null,
      "metadata": {},
      "outputs": [],
      "source": [
        "# data = data.drop(['Initial_Origin_Balance', 'Initial_Destination_Balance'], axis=1)"
      ]
    },
    {
      "cell_type": "code",
      "execution_count": null,
      "metadata": {},
      "outputs": [],
      "source": [
        "data.columns"
      ]
    },
    {
      "cell_type": "code",
      "execution_count": 4,
      "metadata": {},
      "outputs": [],
      "source": [
        "# # Function to hash Origin_ID\n",
        "# def hash_origin_id(origin_id):\n",
        "#     return hashlib.sha256(origin_id.encode()).hexdigest()\n",
        "\n",
        "# # Apply the function to the Origin_ID column\n",
        "# data['Hashed_Origin_ID'] = data['Origin_ID'].apply(hash_origin_id).rank(method=\"dense\").astype(int)\n",
        "# data['Hashed_Destination_ID'] = data['Destination_ID'].apply(hash_origin_id).rank(method=\"dense\").astype(int)\n",
        "\n",
        "encodables = ['Origin_ID', 'Destination_ID', 'Fraud']\n",
        "encoders = {}\n",
        "for column in encodables:\n",
        "    le = LabelEncoder()\n",
        "    data[column] = le.fit_transform(data[column])\n",
        "    encoders[column] = le"
      ]
    },
    {
      "cell_type": "code",
      "execution_count": 5,
      "metadata": {},
      "outputs": [],
      "source": [
        "# test_data['Fraud'] = encoders['Fraud'].transform(test_data['Fraud'])"
      ]
    },
    {
      "cell_type": "code",
      "execution_count": null,
      "metadata": {},
      "outputs": [],
      "source": [
        "data.head()"
      ]
    },
    {
      "cell_type": "code",
      "execution_count": null,
      "metadata": {},
      "outputs": [],
      "source": [
        "# data = data.drop(['Origin_ID', 'Destination_ID'], axis=1)"
      ]
    },
    {
      "cell_type": "code",
      "execution_count": null,
      "metadata": {},
      "outputs": [],
      "source": [
        "data.columns"
      ]
    },
    {
      "cell_type": "code",
      "execution_count": null,
      "metadata": {},
      "outputs": [],
      "source": [
        "data.dtypes"
      ]
    },
    {
      "cell_type": "code",
      "execution_count": null,
      "metadata": {},
      "outputs": [],
      "source": [
        "data['Destination_ID'].value_counts()"
      ]
    },
    {
      "cell_type": "code",
      "execution_count": null,
      "metadata": {},
      "outputs": [],
      "source": [
        "data['Origin_ID'].value_counts()"
      ]
    },
    {
      "cell_type": "code",
      "execution_count": null,
      "metadata": {},
      "outputs": [],
      "source": []
    },
    {
      "cell_type": "code",
      "execution_count": null,
      "metadata": {},
      "outputs": [],
      "source": [
        "data.columns"
      ]
    },
    {
      "cell_type": "code",
      "execution_count": null,
      "metadata": {},
      "outputs": [],
      "source": [
        "data.shape"
      ]
    },
    {
      "cell_type": "code",
      "execution_count": null,
      "metadata": {},
      "outputs": [],
      "source": [
        "(data['Initial_Origin_Balance'] - data['Final_Origin_Balance']) == (data['Final_Destination_Balance'] - data['Initial_Destination_Balance'])\n"
      ]
    },
    {
      "cell_type": "code",
      "execution_count": null,
      "metadata": {},
      "outputs": [],
      "source": [
        "# data = data.drop(['Origin_ID', 'Destination_ID', 'Initial_Origin_Balance', 'Initial_Destination_Balance'], axis=1)"
      ]
    },
    {
      "cell_type": "code",
      "execution_count": null,
      "metadata": {},
      "outputs": [],
      "source": [
        "data.head()"
      ]
    },
    {
      "cell_type": "code",
      "execution_count": null,
      "metadata": {},
      "outputs": [],
      "source": [
        "data['Transaction_Type'].value_counts()"
      ]
    },
    {
      "cell_type": "code",
      "execution_count": null,
      "metadata": {},
      "outputs": [],
      "source": [
        "transaction_types = data['Transaction_Type'].unique()\n",
        "print(transaction_types)"
      ]
    },
    {
      "cell_type": "code",
      "execution_count": null,
      "metadata": {},
      "outputs": [],
      "source": [
        "# No null values are found except for the Expected_fraud column\n",
        "null_count = data.isnull().sum()\n",
        "print(null_count)  # Returns the count of nulls"
      ]
    },
    {
      "cell_type": "code",
      "execution_count": 6,
      "metadata": {},
      "outputs": [],
      "source": [
        "# Create a mapping dictionary for the similar labels\n",
        "transaction_type_mapping = {\n",
        "    'CASH_OUUUT': 'CASH_OUT',\n",
        "    'Trans_fer': 'TRANSFER',\n",
        "    'TRANSFER': 'TRANSFER',  # Keeping it the same for consistency\n",
        "    'CASH_OUT': 'CASH_OUT',  # Keeping it the same\n",
        "    'PAYMENT': 'PAYMENT',  # Keeping it the same\n",
        "    'CASH_IN': 'CASH_IN',  # Keeping it the same\n",
        "}"
      ]
    },
    {
      "cell_type": "code",
      "execution_count": 7,
      "metadata": {},
      "outputs": [
        {
          "name": "stdout",
          "output_type": "stream",
          "text": [
            "Transaction_Type\n",
            "CASH_OUT    21677\n",
            "PAYMENT     17079\n",
            "CASH_IN     10808\n",
            "TRANSFER     8272\n",
            "DEBIT         314\n",
            "Name: count, dtype: int64\n"
          ]
        }
      ],
      "source": [
        "# Apply the mapping to replace inconsistent labels with correct ones\n",
        "data['Transaction_Type'] = data['Transaction_Type'].replace(transaction_type_mapping)\n",
        "test_data['Transaction_Type'] = test_data['Transaction_Type'].replace(transaction_type_mapping)\n",
        "# Verify the changes\n",
        "print(data['Transaction_Type'].value_counts())\n",
        "# #Transaction amount is negative if outgoing and positive for incoming"
      ]
    },
    {
      "cell_type": "code",
      "execution_count": null,
      "metadata": {},
      "outputs": [],
      "source": [
        "# # Assuming your DataFrame is called 'data'\n",
        "\n",
        "# # Step 1: Create a new column 'Transaction_Sign' based on the sign of the 'Amount'\n",
        "# data['Transaction_Amount_sign'] = data['TransactionAmount'].apply(lambda x: 0 if x < 0 else 1)\n",
        "\n",
        "# # Step 2: Group the data by 'Transaction_Type' and 'Transaction_Sign' a\n",
        "# grouped_data = data.groupby(['Transaction_Type', 'Transaction_Amount_sign']).size().unstack(fill_value=0)\n",
        "\n",
        "# # Display the grouped data\n",
        "# #print(grouped_data)\n",
        "# # Assuming the result is stored in 'grouped_data'\n",
        "# reversed_axes = grouped_data.transpose()\n",
        "\n",
        "# # Display the reversed axes DataFrame\n",
        "# print(reversed_axes)"
      ]
    },
    {
      "cell_type": "code",
      "execution_count": null,
      "metadata": {},
      "outputs": [],
      "source": [
        "data.head()"
      ]
    },
    {
      "cell_type": "code",
      "execution_count": 8,
      "metadata": {},
      "outputs": [
        {
          "data": {
            "text/html": [
              "<div>\n",
              "<style scoped>\n",
              "    .dataframe tbody tr th:only-of-type {\n",
              "        vertical-align: middle;\n",
              "    }\n",
              "\n",
              "    .dataframe tbody tr th {\n",
              "        vertical-align: top;\n",
              "    }\n",
              "\n",
              "    .dataframe thead th {\n",
              "        text-align: right;\n",
              "    }\n",
              "</style>\n",
              "<table border=\"1\" class=\"dataframe\">\n",
              "  <thead>\n",
              "    <tr style=\"text-align: right;\">\n",
              "      <th></th>\n",
              "      <th>Time</th>\n",
              "      <th>Amount</th>\n",
              "      <th>Origin_ID</th>\n",
              "      <th>Initial_Origin_Balance</th>\n",
              "      <th>Final_Origin_Balance</th>\n",
              "      <th>Destination_ID</th>\n",
              "      <th>Initial_Destination_Balance</th>\n",
              "      <th>Final_Destination_Balance</th>\n",
              "      <th>Fraud</th>\n",
              "      <th>Expected_Fraud</th>\n",
              "      <th>Transaction_Type_CASH_IN</th>\n",
              "      <th>Transaction_Type_CASH_OUT</th>\n",
              "      <th>Transaction_Type_DEBIT</th>\n",
              "      <th>Transaction_Type_PAYMENT</th>\n",
              "      <th>Transaction_Type_TRANSFER</th>\n",
              "    </tr>\n",
              "  </thead>\n",
              "  <tbody>\n",
              "    <tr>\n",
              "      <th>0</th>\n",
              "      <td>162</td>\n",
              "      <td>183806.32</td>\n",
              "      <td>48751</td>\n",
              "      <td>19391.00</td>\n",
              "      <td>0.00</td>\n",
              "      <td>8311</td>\n",
              "      <td>382572.19</td>\n",
              "      <td>566378.51</td>\n",
              "      <td>0</td>\n",
              "      <td>No</td>\n",
              "      <td>False</td>\n",
              "      <td>True</td>\n",
              "      <td>False</td>\n",
              "      <td>False</td>\n",
              "      <td>False</td>\n",
              "    </tr>\n",
              "    <tr>\n",
              "      <th>1</th>\n",
              "      <td>137</td>\n",
              "      <td>521.37</td>\n",
              "      <td>31245</td>\n",
              "      <td>0.00</td>\n",
              "      <td>0.00</td>\n",
              "      <td>50731</td>\n",
              "      <td>0.00</td>\n",
              "      <td>0.00</td>\n",
              "      <td>0</td>\n",
              "      <td>No</td>\n",
              "      <td>False</td>\n",
              "      <td>False</td>\n",
              "      <td>False</td>\n",
              "      <td>True</td>\n",
              "      <td>False</td>\n",
              "    </tr>\n",
              "    <tr>\n",
              "      <th>2</th>\n",
              "      <td>179</td>\n",
              "      <td>3478.18</td>\n",
              "      <td>21146</td>\n",
              "      <td>19853.00</td>\n",
              "      <td>16374.82</td>\n",
              "      <td>52691</td>\n",
              "      <td>0.00</td>\n",
              "      <td>0.00</td>\n",
              "      <td>0</td>\n",
              "      <td>No</td>\n",
              "      <td>False</td>\n",
              "      <td>False</td>\n",
              "      <td>False</td>\n",
              "      <td>True</td>\n",
              "      <td>False</td>\n",
              "    </tr>\n",
              "    <tr>\n",
              "      <th>3</th>\n",
              "      <td>355</td>\n",
              "      <td>1716.05</td>\n",
              "      <td>55464</td>\n",
              "      <td>5769.17</td>\n",
              "      <td>4053.13</td>\n",
              "      <td>42137</td>\n",
              "      <td>0.00</td>\n",
              "      <td>0.00</td>\n",
              "      <td>0</td>\n",
              "      <td>No</td>\n",
              "      <td>False</td>\n",
              "      <td>False</td>\n",
              "      <td>False</td>\n",
              "      <td>True</td>\n",
              "      <td>False</td>\n",
              "    </tr>\n",
              "    <tr>\n",
              "      <th>4</th>\n",
              "      <td>354</td>\n",
              "      <td>253129.93</td>\n",
              "      <td>30759</td>\n",
              "      <td>1328499.49</td>\n",
              "      <td>1581629.42</td>\n",
              "      <td>26864</td>\n",
              "      <td>2713220.48</td>\n",
              "      <td>2460090.55</td>\n",
              "      <td>0</td>\n",
              "      <td>No</td>\n",
              "      <td>True</td>\n",
              "      <td>False</td>\n",
              "      <td>False</td>\n",
              "      <td>False</td>\n",
              "      <td>False</td>\n",
              "    </tr>\n",
              "  </tbody>\n",
              "</table>\n",
              "</div>"
            ],
            "text/plain": [
              "   Time     Amount  Origin_ID  Initial_Origin_Balance  Final_Origin_Balance  \\\n",
              "0   162  183806.32      48751                19391.00                  0.00   \n",
              "1   137     521.37      31245                    0.00                  0.00   \n",
              "2   179    3478.18      21146                19853.00              16374.82   \n",
              "3   355    1716.05      55464                 5769.17               4053.13   \n",
              "4   354  253129.93      30759              1328499.49            1581629.42   \n",
              "\n",
              "   Destination_ID  Initial_Destination_Balance  Final_Destination_Balance  \\\n",
              "0            8311                    382572.19                  566378.51   \n",
              "1           50731                         0.00                       0.00   \n",
              "2           52691                         0.00                       0.00   \n",
              "3           42137                         0.00                       0.00   \n",
              "4           26864                   2713220.48                 2460090.55   \n",
              "\n",
              "   Fraud Expected_Fraud  Transaction_Type_CASH_IN  Transaction_Type_CASH_OUT  \\\n",
              "0      0             No                     False                       True   \n",
              "1      0             No                     False                      False   \n",
              "2      0             No                     False                      False   \n",
              "3      0             No                     False                      False   \n",
              "4      0             No                      True                      False   \n",
              "\n",
              "   Transaction_Type_DEBIT  Transaction_Type_PAYMENT  Transaction_Type_TRANSFER  \n",
              "0                   False                     False                      False  \n",
              "1                   False                      True                      False  \n",
              "2                   False                      True                      False  \n",
              "3                   False                      True                      False  \n",
              "4                   False                     False                      False  "
            ]
          },
          "execution_count": 8,
          "metadata": {},
          "output_type": "execute_result"
        }
      ],
      "source": [
        "data = pd.get_dummies(data, columns=['Transaction_Type'])\n",
        "test_data = pd.get_dummies(test_data, columns=['Transaction_Type'])\n",
        "data.head()"
      ]
    },
    {
      "cell_type": "code",
      "execution_count": null,
      "metadata": {},
      "outputs": [],
      "source": [
        "data['source_amount'] = (data['Initial_Origin_Balance'] - data['Final_Origin_Balance'])\n",
        "data['destination_amount'] = (data['Final_Destination_Balance'] - data['Initial_Destination_Balance'])"
      ]
    },
    {
      "cell_type": "code",
      "execution_count": 10,
      "metadata": {},
      "outputs": [],
      "source": [
        "test_data['source_amount'] = (test_data['Initial_Origin_Balance'] - test_data['Final_Origin_Balance'])\n",
        "test_data['destination_amount'] = (test_data['Final_Destination_Balance'] - test_data['Initial_Destination_Balance'])"
      ]
    },
    {
      "cell_type": "code",
      "execution_count": null,
      "metadata": {},
      "outputs": [],
      "source": [
        "\n",
        "money_columns = ['Amount', 'source_amount', 'destination_amount']"
      ]
    },
    {
      "cell_type": "code",
      "execution_count": null,
      "metadata": {},
      "outputs": [],
      "source": [
        "data[(data['source_amount'].abs() == data['destination_amount'].abs()) & (data['source_amount'] != data['Amount'].abs())][money_columns].head()"
      ]
    },
    {
      "cell_type": "code",
      "execution_count": null,
      "metadata": {},
      "outputs": [],
      "source": [
        "swappables = (data['source_amount'] <= 0) & (data['destination_amount'] <= 0)\n",
        "data.loc[swappables, 'source_amount'], data.loc[swappables, 'destination_amount'] = data.loc[swappables, 'destination_amount'], data.loc[swappables, 'source_amount']"
      ]
    },
    {
      "cell_type": "code",
      "execution_count": 11,
      "metadata": {},
      "outputs": [],
      "source": [
        "test_swappables = (test_data['source_amount'] <= 0) & (test_data['destination_amount'] <= 0)\n",
        "test_data.loc[test_swappables, 'source_amount'], test_data.loc[test_swappables, 'destination_amount'] = test_data.loc[test_swappables, 'destination_amount'], test_data.loc[test_swappables, 'source_amount']"
      ]
    },
    {
      "cell_type": "code",
      "execution_count": null,
      "metadata": {},
      "outputs": [],
      "source": [
        "data['time_of_day'] = data['Time']%24\n",
        "data.groupby('Fraud')['time_of_day'].value_counts()\n"
      ]
    },
    {
      "cell_type": "code",
      "execution_count": null,
      "metadata": {},
      "outputs": [],
      "source": [
        "data.groupby('Fraud')['Time'].value_counts()\n"
      ]
    },
    {
      "cell_type": "code",
      "execution_count": 12,
      "metadata": {},
      "outputs": [
        {
          "data": {
            "text/html": [
              "<div>\n",
              "<style scoped>\n",
              "    .dataframe tbody tr th:only-of-type {\n",
              "        vertical-align: middle;\n",
              "    }\n",
              "\n",
              "    .dataframe tbody tr th {\n",
              "        vertical-align: top;\n",
              "    }\n",
              "\n",
              "    .dataframe thead th {\n",
              "        text-align: right;\n",
              "    }\n",
              "</style>\n",
              "<table border=\"1\" class=\"dataframe\">\n",
              "  <thead>\n",
              "    <tr style=\"text-align: right;\">\n",
              "      <th></th>\n",
              "      <th>Amount</th>\n",
              "      <th>Final_Origin_Balance</th>\n",
              "      <th>Final_Destination_Balance</th>\n",
              "      <th>Fraud</th>\n",
              "      <th>Transaction_Type_CASH_IN</th>\n",
              "      <th>Transaction_Type_CASH_OUT</th>\n",
              "      <th>Transaction_Type_DEBIT</th>\n",
              "      <th>Transaction_Type_PAYMENT</th>\n",
              "      <th>Transaction_Type_TRANSFER</th>\n",
              "    </tr>\n",
              "  </thead>\n",
              "  <tbody>\n",
              "    <tr>\n",
              "      <th>0</th>\n",
              "      <td>183806.32</td>\n",
              "      <td>0.00</td>\n",
              "      <td>566378.51</td>\n",
              "      <td>0</td>\n",
              "      <td>False</td>\n",
              "      <td>True</td>\n",
              "      <td>False</td>\n",
              "      <td>False</td>\n",
              "      <td>False</td>\n",
              "    </tr>\n",
              "    <tr>\n",
              "      <th>1</th>\n",
              "      <td>521.37</td>\n",
              "      <td>0.00</td>\n",
              "      <td>0.00</td>\n",
              "      <td>0</td>\n",
              "      <td>False</td>\n",
              "      <td>False</td>\n",
              "      <td>False</td>\n",
              "      <td>True</td>\n",
              "      <td>False</td>\n",
              "    </tr>\n",
              "    <tr>\n",
              "      <th>2</th>\n",
              "      <td>3478.18</td>\n",
              "      <td>16374.82</td>\n",
              "      <td>0.00</td>\n",
              "      <td>0</td>\n",
              "      <td>False</td>\n",
              "      <td>False</td>\n",
              "      <td>False</td>\n",
              "      <td>True</td>\n",
              "      <td>False</td>\n",
              "    </tr>\n",
              "    <tr>\n",
              "      <th>3</th>\n",
              "      <td>1716.05</td>\n",
              "      <td>4053.13</td>\n",
              "      <td>0.00</td>\n",
              "      <td>0</td>\n",
              "      <td>False</td>\n",
              "      <td>False</td>\n",
              "      <td>False</td>\n",
              "      <td>True</td>\n",
              "      <td>False</td>\n",
              "    </tr>\n",
              "    <tr>\n",
              "      <th>4</th>\n",
              "      <td>253129.93</td>\n",
              "      <td>1581629.42</td>\n",
              "      <td>2460090.55</td>\n",
              "      <td>0</td>\n",
              "      <td>True</td>\n",
              "      <td>False</td>\n",
              "      <td>False</td>\n",
              "      <td>False</td>\n",
              "      <td>False</td>\n",
              "    </tr>\n",
              "  </tbody>\n",
              "</table>\n",
              "</div>"
            ],
            "text/plain": [
              "      Amount  Final_Origin_Balance  Final_Destination_Balance  Fraud  \\\n",
              "0  183806.32                  0.00                  566378.51      0   \n",
              "1     521.37                  0.00                       0.00      0   \n",
              "2    3478.18              16374.82                       0.00      0   \n",
              "3    1716.05               4053.13                       0.00      0   \n",
              "4  253129.93            1581629.42                 2460090.55      0   \n",
              "\n",
              "   Transaction_Type_CASH_IN  Transaction_Type_CASH_OUT  \\\n",
              "0                     False                       True   \n",
              "1                     False                      False   \n",
              "2                     False                      False   \n",
              "3                     False                      False   \n",
              "4                      True                      False   \n",
              "\n",
              "   Transaction_Type_DEBIT  Transaction_Type_PAYMENT  Transaction_Type_TRANSFER  \n",
              "0                   False                     False                      False  \n",
              "1                   False                      True                      False  \n",
              "2                   False                      True                      False  \n",
              "3                   False                      True                      False  \n",
              "4                   False                     False                      False  "
            ]
          },
          "execution_count": 12,
          "metadata": {},
          "output_type": "execute_result"
        }
      ],
      "source": [
        "columns_to_drop = [\n",
        "    'Origin_ID', 'Destination_ID', 'Initial_Origin_Balance', \n",
        "    'Initial_Destination_Balance', 'Expected_Fraud', \n",
        "    'source_amount', 'destination_amount', 'TransactionAmount', 'time_of_day', 'Time'\n",
        "]\n",
        "\n",
        "# Drop columns if they exist\n",
        "data = data.drop(columns=[col for col in columns_to_drop if col in data.columns])\n",
        "test_data = test_data.drop(columns=[col for col in columns_to_drop if col in test_data.columns])\n",
        "\n",
        "data.head()"
      ]
    },
    {
      "cell_type": "code",
      "execution_count": null,
      "metadata": {},
      "outputs": [],
      "source": []
    },
    {
      "cell_type": "code",
      "execution_count": null,
      "metadata": {},
      "outputs": [],
      "source": [
        "data.head()"
      ]
    },
    {
      "cell_type": "code",
      "execution_count": null,
      "metadata": {},
      "outputs": [],
      "source": []
    },
    {
      "cell_type": "code",
      "execution_count": null,
      "metadata": {},
      "outputs": [],
      "source": [
        "data.to_csv('cleaned_data.csv', index=False)"
      ]
    },
    {
      "cell_type": "code",
      "execution_count": 13,
      "metadata": {},
      "outputs": [],
      "source": [
        "test_data.to_csv('cleaned_test_data.csv', index=False)"
      ]
    },
    {
      "cell_type": "code",
      "execution_count": null,
      "metadata": {},
      "outputs": [],
      "source": []
    },
    {
      "cell_type": "code",
      "execution_count": null,
      "metadata": {},
      "outputs": [],
      "source": []
    },
    {
      "cell_type": "code",
      "execution_count": null,
      "metadata": {},
      "outputs": [],
      "source": []
    },
    {
      "cell_type": "code",
      "execution_count": null,
      "metadata": {},
      "outputs": [],
      "source": []
    },
    {
      "cell_type": "code",
      "execution_count": null,
      "metadata": {},
      "outputs": [],
      "source": []
    }
  ],
  "metadata": {
    "kernelspec": {
      "display_name": "Python 3",
      "language": "python",
      "name": "python3"
    },
    "language_info": {
      "codemirror_mode": {
        "name": "ipython",
        "version": 3
      },
      "file_extension": ".py",
      "mimetype": "text/x-python",
      "name": "python",
      "nbconvert_exporter": "python",
      "pygments_lexer": "ipython3",
      "version": "3.10.12"
    }
  },
  "nbformat": 4,
  "nbformat_minor": 2
}
