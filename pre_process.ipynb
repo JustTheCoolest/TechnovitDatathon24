{
 "cells": [
  {
   "cell_type": "code",
   "execution_count": 25,
   "metadata": {},
   "outputs": [],
   "source": [
    "import pandas as pd \n",
    "import numpy as np "
   ]
  },
  {
   "cell_type": "code",
   "execution_count": 26,
   "metadata": {},
   "outputs": [],
   "source": [
    "import hashlib"
   ]
  },
  {
   "cell_type": "code",
   "execution_count": 27,
   "metadata": {},
   "outputs": [],
   "source": [
    "data = pd.read_csv('DATATHON_EVENT_DATASET.csv')"
   ]
  },
  {
   "cell_type": "code",
   "execution_count": 28,
   "metadata": {},
   "outputs": [
    {
     "data": {
      "text/html": [
       "<div>\n",
       "<style scoped>\n",
       "    .dataframe tbody tr th:only-of-type {\n",
       "        vertical-align: middle;\n",
       "    }\n",
       "\n",
       "    .dataframe tbody tr th {\n",
       "        vertical-align: top;\n",
       "    }\n",
       "\n",
       "    .dataframe thead th {\n",
       "        text-align: right;\n",
       "    }\n",
       "</style>\n",
       "<table border=\"1\" class=\"dataframe\">\n",
       "  <thead>\n",
       "    <tr style=\"text-align: right;\">\n",
       "      <th></th>\n",
       "      <th>Time</th>\n",
       "      <th>Transaction_Type</th>\n",
       "      <th>Amount</th>\n",
       "      <th>Origin_ID</th>\n",
       "      <th>Initial_Origin_Balance</th>\n",
       "      <th>Final_Origin_Balance</th>\n",
       "      <th>Destination_ID</th>\n",
       "      <th>Initial_Destination_Balance</th>\n",
       "      <th>Final_Destination_Balance</th>\n",
       "      <th>Fraud</th>\n",
       "      <th>Expected_Fraud</th>\n",
       "    </tr>\n",
       "  </thead>\n",
       "  <tbody>\n",
       "    <tr>\n",
       "      <th>0</th>\n",
       "      <td>162</td>\n",
       "      <td>CASH_OUT</td>\n",
       "      <td>183806.32</td>\n",
       "      <td>C691771226</td>\n",
       "      <td>19391.00</td>\n",
       "      <td>0.00</td>\n",
       "      <td>C1416312719</td>\n",
       "      <td>382572.19</td>\n",
       "      <td>566378.51</td>\n",
       "      <td>No</td>\n",
       "      <td>No</td>\n",
       "    </tr>\n",
       "    <tr>\n",
       "      <th>1</th>\n",
       "      <td>137</td>\n",
       "      <td>PAYMENT</td>\n",
       "      <td>521.37</td>\n",
       "      <td>C203378011</td>\n",
       "      <td>0.00</td>\n",
       "      <td>0.00</td>\n",
       "      <td>M42773300</td>\n",
       "      <td>0.00</td>\n",
       "      <td>0.00</td>\n",
       "      <td>No</td>\n",
       "      <td>No</td>\n",
       "    </tr>\n",
       "    <tr>\n",
       "      <th>2</th>\n",
       "      <td>179</td>\n",
       "      <td>PAYMENT</td>\n",
       "      <td>3478.18</td>\n",
       "      <td>C1698571270</td>\n",
       "      <td>19853.00</td>\n",
       "      <td>16374.82</td>\n",
       "      <td>M643984524</td>\n",
       "      <td>0.00</td>\n",
       "      <td>0.00</td>\n",
       "      <td>No</td>\n",
       "      <td>No</td>\n",
       "    </tr>\n",
       "    <tr>\n",
       "      <th>3</th>\n",
       "      <td>355</td>\n",
       "      <td>PAYMENT</td>\n",
       "      <td>1716.05</td>\n",
       "      <td>C913764937</td>\n",
       "      <td>5769.17</td>\n",
       "      <td>4053.13</td>\n",
       "      <td>M1387429131</td>\n",
       "      <td>0.00</td>\n",
       "      <td>0.00</td>\n",
       "      <td>No</td>\n",
       "      <td>No</td>\n",
       "    </tr>\n",
       "    <tr>\n",
       "      <th>4</th>\n",
       "      <td>354</td>\n",
       "      <td>CASH_IN</td>\n",
       "      <td>253129.93</td>\n",
       "      <td>C2017736577</td>\n",
       "      <td>1328499.49</td>\n",
       "      <td>1581629.42</td>\n",
       "      <td>C407484102</td>\n",
       "      <td>2713220.48</td>\n",
       "      <td>2460090.55</td>\n",
       "      <td>No</td>\n",
       "      <td>No</td>\n",
       "    </tr>\n",
       "  </tbody>\n",
       "</table>\n",
       "</div>"
      ],
      "text/plain": [
       "   Time Transaction_Type     Amount    Origin_ID  Initial_Origin_Balance  \\\n",
       "0   162         CASH_OUT  183806.32   C691771226                19391.00   \n",
       "1   137          PAYMENT     521.37   C203378011                    0.00   \n",
       "2   179          PAYMENT    3478.18  C1698571270                19853.00   \n",
       "3   355          PAYMENT    1716.05   C913764937                 5769.17   \n",
       "4   354          CASH_IN  253129.93  C2017736577              1328499.49   \n",
       "\n",
       "   Final_Origin_Balance Destination_ID  Initial_Destination_Balance  \\\n",
       "0                  0.00    C1416312719                    382572.19   \n",
       "1                  0.00      M42773300                         0.00   \n",
       "2              16374.82     M643984524                         0.00   \n",
       "3               4053.13    M1387429131                         0.00   \n",
       "4            1581629.42     C407484102                   2713220.48   \n",
       "\n",
       "   Final_Destination_Balance Fraud Expected_Fraud  \n",
       "0                  566378.51    No             No  \n",
       "1                       0.00    No             No  \n",
       "2                       0.00    No             No  \n",
       "3                       0.00    No             No  \n",
       "4                 2460090.55    No             No  "
      ]
     },
     "execution_count": 28,
     "metadata": {},
     "output_type": "execute_result"
    }
   ],
   "source": [
    "data.head()"
   ]
  },
  {
   "cell_type": "code",
   "execution_count": 29,
   "metadata": {},
   "outputs": [],
   "source": [
    "# data = data.drop(\"Expected_Fraud\", axis=1)"
   ]
  },
  {
   "cell_type": "code",
   "execution_count": 30,
   "metadata": {},
   "outputs": [
    {
     "data": {
      "text/plain": [
       "Time                             int64\n",
       "Transaction_Type                object\n",
       "Amount                         float64\n",
       "Origin_ID                       object\n",
       "Initial_Origin_Balance         float64\n",
       "Final_Origin_Balance           float64\n",
       "Destination_ID                  object\n",
       "Initial_Destination_Balance    float64\n",
       "Final_Destination_Balance      float64\n",
       "Fraud                           object\n",
       "Expected_Fraud                  object\n",
       "dtype: object"
      ]
     },
     "execution_count": 30,
     "metadata": {},
     "output_type": "execute_result"
    }
   ],
   "source": [
    "data.dtypes"
   ]
  },
  {
   "cell_type": "code",
   "execution_count": 31,
   "metadata": {},
   "outputs": [],
   "source": [
    "data['TransactionAmount'] = data['Final_Origin_Balance'] - data['Initial_Origin_Balance']"
   ]
  },
  {
   "cell_type": "code",
   "execution_count": 32,
   "metadata": {},
   "outputs": [],
   "source": [
    "# data = data.drop(['Initial_Origin_Balance', 'Initial_Destination_Balance'], axis=1)"
   ]
  },
  {
   "cell_type": "code",
   "execution_count": 33,
   "metadata": {},
   "outputs": [
    {
     "data": {
      "text/plain": [
       "Index(['Time', 'Transaction_Type', 'Amount', 'Origin_ID',\n",
       "       'Final_Origin_Balance', 'Destination_ID', 'Final_Destination_Balance',\n",
       "       'Fraud', 'Expected_Fraud', 'TransactionAmount'],\n",
       "      dtype='object')"
      ]
     },
     "execution_count": 33,
     "metadata": {},
     "output_type": "execute_result"
    }
   ],
   "source": [
    "data.columns"
   ]
  },
  {
   "cell_type": "code",
   "execution_count": 51,
   "metadata": {},
   "outputs": [],
   "source": [
    "\n",
    "# Apply the function to the Origin_ID column\n",
    "data['Hashed_Origin_ID'] = data['Origin_ID'].apply(hash).astype('int64')\n",
    "data['Hashed_Destination_ID'] = data['Destination_ID'].apply(hash).astype('int64')"
   ]
  },
  {
   "cell_type": "code",
   "execution_count": 56,
   "metadata": {},
   "outputs": [],
   "source": [
    "import hashlib"
   ]
  },
  {
   "cell_type": "code",
   "execution_count": 53,
   "metadata": {},
   "outputs": [
    {
     "data": {
      "text/html": [
       "<div>\n",
       "<style scoped>\n",
       "    .dataframe tbody tr th:only-of-type {\n",
       "        vertical-align: middle;\n",
       "    }\n",
       "\n",
       "    .dataframe tbody tr th {\n",
       "        vertical-align: top;\n",
       "    }\n",
       "\n",
       "    .dataframe thead th {\n",
       "        text-align: right;\n",
       "    }\n",
       "</style>\n",
       "<table border=\"1\" class=\"dataframe\">\n",
       "  <thead>\n",
       "    <tr style=\"text-align: right;\">\n",
       "      <th></th>\n",
       "      <th>Time</th>\n",
       "      <th>Transaction_Type</th>\n",
       "      <th>Amount</th>\n",
       "      <th>Origin_ID</th>\n",
       "      <th>Final_Origin_Balance</th>\n",
       "      <th>Destination_ID</th>\n",
       "      <th>Final_Destination_Balance</th>\n",
       "      <th>Fraud</th>\n",
       "      <th>Expected_Fraud</th>\n",
       "      <th>TransactionAmount</th>\n",
       "      <th>Hashed_Origin_ID</th>\n",
       "      <th>Hashed_Destination_ID</th>\n",
       "    </tr>\n",
       "  </thead>\n",
       "  <tbody>\n",
       "    <tr>\n",
       "      <th>0</th>\n",
       "      <td>162</td>\n",
       "      <td>CASH_OUT</td>\n",
       "      <td>183806.32</td>\n",
       "      <td>C691771226</td>\n",
       "      <td>0.00</td>\n",
       "      <td>C1416312719</td>\n",
       "      <td>566378.51</td>\n",
       "      <td>No</td>\n",
       "      <td>No</td>\n",
       "      <td>-19391.00</td>\n",
       "      <td>6206652195234717615</td>\n",
       "      <td>4158844970661409217</td>\n",
       "    </tr>\n",
       "    <tr>\n",
       "      <th>1</th>\n",
       "      <td>137</td>\n",
       "      <td>PAYMENT</td>\n",
       "      <td>521.37</td>\n",
       "      <td>C203378011</td>\n",
       "      <td>0.00</td>\n",
       "      <td>M42773300</td>\n",
       "      <td>0.00</td>\n",
       "      <td>No</td>\n",
       "      <td>No</td>\n",
       "      <td>0.00</td>\n",
       "      <td>-7876081513909550411</td>\n",
       "      <td>5154609095142955982</td>\n",
       "    </tr>\n",
       "    <tr>\n",
       "      <th>2</th>\n",
       "      <td>179</td>\n",
       "      <td>PAYMENT</td>\n",
       "      <td>3478.18</td>\n",
       "      <td>C1698571270</td>\n",
       "      <td>16374.82</td>\n",
       "      <td>M643984524</td>\n",
       "      <td>0.00</td>\n",
       "      <td>No</td>\n",
       "      <td>No</td>\n",
       "      <td>-3478.18</td>\n",
       "      <td>5641091840828308215</td>\n",
       "      <td>-2687363131937899503</td>\n",
       "    </tr>\n",
       "    <tr>\n",
       "      <th>3</th>\n",
       "      <td>355</td>\n",
       "      <td>PAYMENT</td>\n",
       "      <td>1716.05</td>\n",
       "      <td>C913764937</td>\n",
       "      <td>4053.13</td>\n",
       "      <td>M1387429131</td>\n",
       "      <td>0.00</td>\n",
       "      <td>No</td>\n",
       "      <td>No</td>\n",
       "      <td>-1716.04</td>\n",
       "      <td>4712233521516437196</td>\n",
       "      <td>9144958884526649239</td>\n",
       "    </tr>\n",
       "    <tr>\n",
       "      <th>4</th>\n",
       "      <td>354</td>\n",
       "      <td>CASH_IN</td>\n",
       "      <td>253129.93</td>\n",
       "      <td>C2017736577</td>\n",
       "      <td>1581629.42</td>\n",
       "      <td>C407484102</td>\n",
       "      <td>2460090.55</td>\n",
       "      <td>No</td>\n",
       "      <td>No</td>\n",
       "      <td>253129.93</td>\n",
       "      <td>-3214466548269231425</td>\n",
       "      <td>3950046400952680750</td>\n",
       "    </tr>\n",
       "  </tbody>\n",
       "</table>\n",
       "</div>"
      ],
      "text/plain": [
       "   Time Transaction_Type     Amount    Origin_ID  Final_Origin_Balance  \\\n",
       "0   162         CASH_OUT  183806.32   C691771226                  0.00   \n",
       "1   137          PAYMENT     521.37   C203378011                  0.00   \n",
       "2   179          PAYMENT    3478.18  C1698571270              16374.82   \n",
       "3   355          PAYMENT    1716.05   C913764937               4053.13   \n",
       "4   354          CASH_IN  253129.93  C2017736577            1581629.42   \n",
       "\n",
       "  Destination_ID  Final_Destination_Balance Fraud Expected_Fraud  \\\n",
       "0    C1416312719                  566378.51    No             No   \n",
       "1      M42773300                       0.00    No             No   \n",
       "2     M643984524                       0.00    No             No   \n",
       "3    M1387429131                       0.00    No             No   \n",
       "4     C407484102                 2460090.55    No             No   \n",
       "\n",
       "   TransactionAmount     Hashed_Origin_ID  Hashed_Destination_ID  \n",
       "0          -19391.00  6206652195234717615    4158844970661409217  \n",
       "1               0.00 -7876081513909550411    5154609095142955982  \n",
       "2           -3478.18  5641091840828308215   -2687363131937899503  \n",
       "3           -1716.04  4712233521516437196    9144958884526649239  \n",
       "4          253129.93 -3214466548269231425    3950046400952680750  "
      ]
     },
     "execution_count": 53,
     "metadata": {},
     "output_type": "execute_result"
    }
   ],
   "source": [
    "data.head()"
   ]
  },
  {
   "cell_type": "code",
   "execution_count": 54,
   "metadata": {},
   "outputs": [],
   "source": [
    "# data = data.drop(['Origin_ID', 'Destination_ID'], axis=1)"
   ]
  },
  {
   "cell_type": "code",
   "execution_count": 55,
   "metadata": {},
   "outputs": [
    {
     "data": {
      "text/plain": [
       "Index(['Time', 'Transaction_Type', 'Amount', 'Origin_ID',\n",
       "       'Final_Origin_Balance', 'Destination_ID', 'Final_Destination_Balance',\n",
       "       'Fraud', 'Expected_Fraud', 'TransactionAmount', 'Hashed_Origin_ID',\n",
       "       'Hashed_Destination_ID'],\n",
       "      dtype='object')"
      ]
     },
     "execution_count": 55,
     "metadata": {},
     "output_type": "execute_result"
    }
   ],
   "source": [
    "data.columns"
   ]
  },
  {
   "cell_type": "code",
   "execution_count": 46,
   "metadata": {},
   "outputs": [
    {
     "data": {
      "text/plain": [
       "Time                           int64\n",
       "Transaction_Type              object\n",
       "Amount                       float64\n",
       "Origin_ID                     object\n",
       "Final_Origin_Balance         float64\n",
       "Destination_ID                object\n",
       "Final_Destination_Balance    float64\n",
       "Fraud                         object\n",
       "Expected_Fraud                object\n",
       "TransactionAmount            float64\n",
       "Hashed_Origin_ID              object\n",
       "Hashed_Destination_ID         object\n",
       "dtype: object"
      ]
     },
     "execution_count": 46,
     "metadata": {},
     "output_type": "execute_result"
    }
   ],
   "source": [
    "data.dtypes"
   ]
  },
  {
   "cell_type": "code",
   "execution_count": null,
   "metadata": {},
   "outputs": [],
   "source": []
  }
 ],
 "metadata": {
  "kernelspec": {
   "display_name": "Python 3",
   "language": "python",
   "name": "python3"
  },
  "language_info": {
   "codemirror_mode": {
    "name": "ipython",
    "version": 3
   },
   "file_extension": ".py",
   "mimetype": "text/x-python",
   "name": "python",
   "nbconvert_exporter": "python",
   "pygments_lexer": "ipython3",
   "version": "3.10.12"
  }
 },
 "nbformat": 4,
 "nbformat_minor": 2
}
