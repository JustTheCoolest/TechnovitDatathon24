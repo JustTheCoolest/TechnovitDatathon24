{
  "cells": [
    {
      "cell_type": "code",
      "execution_count": null,
      "metadata": {},
      "outputs": [],
      "source": [
        "import pandas as pd \n",
        "import numpy as np "
      ]
    },
    {
      "cell_type": "code",
      "execution_count": null,
      "metadata": {},
      "outputs": [],
      "source": [
        "from sklearn.preprocessing import LabelEncoder"
      ]
    },
    {
      "cell_type": "code",
      "execution_count": null,
      "metadata": {},
      "outputs": [],
      "source": [
        "data = pd.read_csv('DATATHON_EVENT_DATASET.csv')"
      ]
    },
    {
      "cell_type": "code",
      "execution_count": null,
      "metadata": {},
      "outputs": [],
      "source": [
        "data.head()"
      ]
    },
    {
      "cell_type": "code",
      "execution_count": null,
      "metadata": {},
      "outputs": [],
      "source": [
        "# data = data.drop(\"Expected_Fraud\", axis=1)"
      ]
    },
    {
      "cell_type": "code",
      "execution_count": null,
      "metadata": {},
      "outputs": [],
      "source": [
        "data.dtypes"
      ]
    },
    {
      "cell_type": "code",
      "execution_count": null,
      "metadata": {},
      "outputs": [],
      "source": [
        "data['TransactionAmount'] = - data['Final_Origin_Balance'] + data['Initial_Origin_Balance']"
      ]
    },
    {
      "cell_type": "code",
      "execution_count": null,
      "metadata": {},
      "outputs": [],
      "source": [
        "# data = data.drop(['Initial_Origin_Balance', 'Initial_Destination_Balance'], axis=1)"
      ]
    },
    {
      "cell_type": "code",
      "execution_count": null,
      "metadata": {},
      "outputs": [],
      "source": [
        "data.columns"
      ]
    },
    {
      "cell_type": "code",
      "execution_count": null,
      "metadata": {},
      "outputs": [],
      "source": [
        "# # Function to hash Origin_ID\n",
        "# def hash_origin_id(origin_id):\n",
        "#     return hashlib.sha256(origin_id.encode()).hexdigest()\n",
        "\n",
        "# # Apply the function to the Origin_ID column\n",
        "# data['Hashed_Origin_ID'] = data['Origin_ID'].apply(hash_origin_id).rank(method=\"dense\").astype(int)\n",
        "# data['Hashed_Destination_ID'] = data['Destination_ID'].apply(hash_origin_id).rank(method=\"dense\").astype(int)\n",
        "\n",
        "encodables = ['Origin_ID', 'Destination_ID', 'Fraud']\n",
        "encoders = {}\n",
        "for column in encodables:\n",
        "    le = LabelEncoder()\n",
        "    data[column] = le.fit_transform(data[column])\n",
        "    encoders[column] = le"
      ]
    },
    {
      "cell_type": "code",
      "execution_count": null,
      "metadata": {},
      "outputs": [],
      "source": [
        "data.head()"
      ]
    },
    {
      "cell_type": "code",
      "execution_count": null,
      "metadata": {},
      "outputs": [],
      "source": [
        "# data = data.drop(['Origin_ID', 'Destination_ID'], axis=1)"
      ]
    },
    {
      "cell_type": "code",
      "execution_count": null,
      "metadata": {},
      "outputs": [],
      "source": [
        "data.columns"
      ]
    },
    {
      "cell_type": "code",
      "execution_count": null,
      "metadata": {},
      "outputs": [],
      "source": [
        "data.dtypes"
      ]
    },
    {
      "cell_type": "code",
      "execution_count": null,
      "metadata": {},
      "outputs": [],
      "source": [
        "data['Destination_ID'].value_counts()"
      ]
    },
    {
      "cell_type": "code",
      "execution_count": null,
      "metadata": {},
      "outputs": [],
      "source": [
        "data['Origin_ID'].value_counts()"
      ]
    },
    {
      "cell_type": "code",
      "execution_count": null,
      "metadata": {},
      "outputs": [],
      "source": []
    },
    {
      "cell_type": "code",
      "execution_count": null,
      "metadata": {},
      "outputs": [],
      "source": [
        "data.columns"
      ]
    },
    {
      "cell_type": "code",
      "execution_count": null,
      "metadata": {},
      "outputs": [],
      "source": [
        "data.shape"
      ]
    },
    {
      "cell_type": "code",
      "execution_count": null,
      "metadata": {},
      "outputs": [],
      "source": [
        "(data['Initial_Origin_Balance'] - data['Final_Origin_Balance']) == (data['Final_Destination_Balance'] - data['Initial_Destination_Balance'])\n"
      ]
    },
    {
      "cell_type": "code",
      "execution_count": null,
      "metadata": {},
      "outputs": [],
      "source": [
        "# data = data.drop(['Origin_ID', 'Destination_ID', 'Initial_Origin_Balance', 'Initial_Destination_Balance'], axis=1)"
      ]
    },
    {
      "cell_type": "code",
      "execution_count": null,
      "metadata": {},
      "outputs": [],
      "source": [
        "data.head()"
      ]
    },
    {
      "cell_type": "code",
      "execution_count": null,
      "metadata": {},
      "outputs": [],
      "source": [
        "data['Transaction_Type'].value_counts()"
      ]
    },
    {
      "cell_type": "code",
      "execution_count": null,
      "metadata": {},
      "outputs": [],
      "source": [
        "transaction_types = data['Transaction_Type'].unique()\n",
        "print(transaction_types)"
      ]
    },
    {
      "cell_type": "code",
      "execution_count": null,
      "metadata": {},
      "outputs": [],
      "source": [
        "# No null values are found except for the Expected_fraud column\n",
        "null_count = data.isnull().sum()\n",
        "print(null_count)  # Returns the count of nulls"
      ]
    },
    {
      "cell_type": "code",
      "execution_count": null,
      "metadata": {},
      "outputs": [],
      "source": [
        "# Create a mapping dictionary for the similar labels\n",
        "transaction_type_mapping = {\n",
        "    'CASH_OUUUT': 'CASH_OUT',\n",
        "    'Trans_fer': 'TRANSFER',\n",
        "    'TRANSFER': 'TRANSFER',  # Keeping it the same for consistency\n",
        "    'CASH_OUT': 'CASH_OUT',  # Keeping it the same\n",
        "    'PAYMENT': 'PAYMENT',  # Keeping it the same\n",
        "    'CASH_IN': 'CASH_IN',  # Keeping it the same\n",
        "}"
      ]
    },
    {
      "cell_type": "code",
      "execution_count": null,
      "metadata": {},
      "outputs": [],
      "source": [
        "# Apply the mapping to replace inconsistent labels with correct ones\n",
        "data['Transaction_Type'] = data['Transaction_Type'].replace(transaction_type_mapping)\n",
        "\n",
        "# Verify the changes\n",
        "print(data['Transaction_Type'].value_counts())\n",
        "# #Transaction amount is negative if outgoing and positive for incoming"
      ]
    },
    {
      "cell_type": "code",
      "execution_count": null,
      "metadata": {},
      "outputs": [],
      "source": [
        "# # Assuming your DataFrame is called 'data'\n",
        "\n",
        "# # Step 1: Create a new column 'Transaction_Sign' based on the sign of the 'Amount'\n",
        "# data['Transaction_Amount_sign'] = data['TransactionAmount'].apply(lambda x: 0 if x < 0 else 1)\n",
        "\n",
        "# # Step 2: Group the data by 'Transaction_Type' and 'Transaction_Sign' a\n",
        "# grouped_data = data.groupby(['Transaction_Type', 'Transaction_Amount_sign']).size().unstack(fill_value=0)\n",
        "\n",
        "# # Display the grouped data\n",
        "# #print(grouped_data)\n",
        "# # Assuming the result is stored in 'grouped_data'\n",
        "# reversed_axes = grouped_data.transpose()\n",
        "\n",
        "# # Display the reversed axes DataFrame\n",
        "# print(reversed_axes)"
      ]
    },
    {
      "cell_type": "code",
      "execution_count": null,
      "metadata": {},
      "outputs": [],
      "source": [
        "data.head()"
      ]
    },
    {
      "cell_type": "code",
      "execution_count": null,
      "metadata": {},
      "outputs": [],
      "source": [
        "data = pd.get_dummies(data, columns=['Transaction_Type'])\n",
        "data.head()"
      ]
    },
    {
      "cell_type": "code",
      "execution_count": null,
      "metadata": {},
      "outputs": [],
      "source": [
        "data['source_amount'] = (data['Initial_Origin_Balance'] - data['Final_Origin_Balance'])\n",
        "data['destination_amount'] = (data['Final_Destination_Balance'] - data['Initial_Destination_Balance'])"
      ]
    },
    {
      "cell_type": "code",
      "execution_count": null,
      "metadata": {},
      "outputs": [],
      "source": [
        "\n",
        "money_columns = ['Amount', 'source_amount', 'destination_amount']"
      ]
    },
    {
      "cell_type": "code",
      "execution_count": null,
      "metadata": {},
      "outputs": [],
      "source": [
        "data[(data['source_amount'].abs() == data['destination_amount'].abs()) & (data['source_amount'] != data['Amount'].abs())][money_columns].head()"
      ]
    },
    {
      "cell_type": "code",
      "execution_count": null,
      "metadata": {},
      "outputs": [],
      "source": [
        "swappables = (data['source_amount'] <= 0) & (data['destination_amount'] <= 0)\n",
        "data.loc[swappables, 'source_amount'], data.loc[swappables, 'destination_amount'] = data.loc[swappables, 'destination_amount'], data.loc[swappables, 'source_amount']"
      ]
    },
    {
      "cell_type": "code",
      "execution_count": null,
      "metadata": {},
      "outputs": [],
      "source": [
        "data['time_of_day'] = data['Time']%24\n",
        "data.groupby('Fraud')['time_of_day'].value_counts()\n"
      ]
    },
    {
      "cell_type": "code",
      "execution_count": null,
      "metadata": {},
      "outputs": [],
      "source": [
        "data.groupby('Fraud')['Time'].value_counts()\n"
      ]
    },
    {
      "cell_type": "code",
      "execution_count": null,
      "metadata": {},
      "outputs": [],
      "source": [
        "columns_to_drop = [\n",
        "    'Origin_ID', 'Destination_ID', 'Initial_Origin_Balance', \n",
        "    'Initial_Destination_Balance', 'Expected_Fraud', \n",
        "    'source_amount', 'destination_amount', 'TransactionAmount', 'time_of_day', 'Time'\n",
        "]\n",
        "\n",
        "# Drop columns if they exist\n",
        "data = data.drop(columns=[col for col in columns_to_drop if col in data.columns])\n",
        "\n",
        "data.head()"
      ]
    },
    {
      "cell_type": "code",
      "execution_count": null,
      "metadata": {},
      "outputs": [],
      "source": []
    },
    {
      "cell_type": "code",
      "execution_count": null,
      "metadata": {},
      "outputs": [],
      "source": [
        "data.head()"
      ]
    },
    {
      "cell_type": "code",
      "execution_count": null,
      "metadata": {},
      "outputs": [],
      "source": [
        "data.to_csv('cleaned_data.csv', index=False)"
      ]
    },
    {
      "cell_type": "code",
      "execution_count": null,
      "metadata": {},
      "outputs": [],
      "source": []
    },
    {
      "cell_type": "code",
      "execution_count": null,
      "metadata": {},
      "outputs": [],
      "source": []
    },
    {
      "cell_type": "code",
      "execution_count": null,
      "metadata": {},
      "outputs": [],
      "source": []
    },
    {
      "cell_type": "code",
      "execution_count": null,
      "metadata": {},
      "outputs": [],
      "source": []
    },
    {
      "cell_type": "code",
      "execution_count": null,
      "metadata": {},
      "outputs": [],
      "source": []
    },
    {
      "cell_type": "code",
      "execution_count": null,
      "metadata": {},
      "outputs": [],
      "source": []
    }
  ],
  "metadata": {
    "kernelspec": {
      "display_name": "Python 3",
      "language": "python",
      "name": "python3"
    },
    "language_info": {
      "codemirror_mode": {
        "name": "ipython",
        "version": 3
      },
      "file_extension": ".py",
      "mimetype": "text/x-python",
      "name": "python",
      "nbconvert_exporter": "python",
      "pygments_lexer": "ipython3",
      "version": "3.10.12"
    }
  },
  "nbformat": 4,
  "nbformat_minor": 2
}
